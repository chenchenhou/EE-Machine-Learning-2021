{
  "nbformat": 4,
  "nbformat_minor": 0,
  "metadata": {
    "accelerator": "GPU",
    "colab": {
      "name": "HW2_1.ipynb",
      "provenance": [],
      "collapsed_sections": []
    },
    "kernelspec": {
      "display_name": "Python 3",
      "name": "python3"
    }
  },
  "cells": [
    {
      "cell_type": "markdown",
      "metadata": {
        "id": "OYlaRwNu7ojq"
      },
      "source": [
        "# **Homework 2-1 Phoneme Classification**"
      ]
    },
    {
      "cell_type": "markdown",
      "metadata": {
        "id": "emUd7uS7crTz"
      },
      "source": [
        "## The DARPA TIMIT Acoustic-Phonetic Continuous Speech Corpus (TIMIT)\n",
        "The TIMIT corpus of reading speech has been designed to provide speech data for the acquisition of acoustic-phonetic knowledge and for the development and evaluation of automatic speech recognition systems.\n",
        "\n",
        "This homework is a multiclass classification task, \n",
        "we are going to train a deep neural network classifier to predict the phonemes for each frame from the speech corpus TIMIT.\n",
        "\n",
        "link: https://academictorrents.com/details/34e2b78745138186976cbc27939b1b34d18bd5b3"
      ]
    },
    {
      "cell_type": "markdown",
      "metadata": {
        "id": "KVUGfWTo7_Oj"
      },
      "source": [
        "## Download Data\n",
        "Download data from google drive, then unzip it.\n",
        "\n",
        "You should have `timit_11/train_11.npy`, `timit_11/train_label_11.npy`, and `timit_11/test_11.npy` after running this block.<br><br>\n",
        "`timit_11/`\n",
        "- `train_11.npy`: training data<br>\n",
        "- `train_label_11.npy`: training label<br>\n",
        "- `test_11.npy`:  testing data<br><br>\n",
        "\n",
        "**notes: if the google drive link is dead, you can download the data directly from Kaggle and upload it to the workspace**\n",
        "\n",
        "\n"
      ]
    },
    {
      "cell_type": "code",
      "metadata": {
        "colab": {
          "base_uri": "https://localhost:8080/"
        },
        "id": "OzkiMEcC3Foq",
        "outputId": "23365389-8d59-4008-b5eb-ca497b2b2e1d"
      },
      "source": [
        "# !gdown --id '1HPkcmQmFGu-3OknddKIa5dNDsR05lIQR' --output data.zip\n",
        "!gdown --id '1IY-AUlTceDOXCuf9ZSJ_qZRQ8LzBtJUm' --output data.zip\n",
        "!unzip data.zip\n",
        "!ls "
      ],
      "execution_count": null,
      "outputs": [
        {
          "output_type": "stream",
          "text": [
            "Downloading...\n",
            "From: https://drive.google.com/uc?id=1IY-AUlTceDOXCuf9ZSJ_qZRQ8LzBtJUm\n",
            "To: /content/data.zip\n",
            "372MB [00:04, 85.4MB/s]\n",
            "Archive:  data.zip\n",
            "   creating: timit_11/\n",
            "  inflating: __MACOSX/._timit_11     \n",
            "  inflating: timit_11/train_11.npy   \n",
            "  inflating: __MACOSX/timit_11/._train_11.npy  \n",
            "  inflating: timit_11/test_11.npy    \n",
            "  inflating: __MACOSX/timit_11/._test_11.npy  \n",
            "  inflating: timit_11/train_label_11.npy  \n",
            "  inflating: __MACOSX/timit_11/._train_label_11.npy  \n",
            "data.zip  __MACOSX  sample_data  timit_11\n"
          ],
          "name": "stdout"
        }
      ]
    },
    {
      "cell_type": "markdown",
      "metadata": {
        "id": "_L_4anls8Drv"
      },
      "source": [
        "## Preparing Data\n",
        "Load the training and testing data from the `.npy` file (NumPy array)."
      ]
    },
    {
      "cell_type": "code",
      "metadata": {
        "id": "IJjLT8em-y9G",
        "colab": {
          "base_uri": "https://localhost:8080/"
        },
        "outputId": "cf41197d-b441-4432-9448-a499a25852b1"
      },
      "source": [
        "import numpy as np\n",
        "\n",
        "print('Loading data ...')\n",
        "\n",
        "data_root='./timit_11/'\n",
        "train = np.load(data_root + 'train_11.npy')\n",
        "train_label = np.load(data_root + 'train_label_11.npy')\n",
        "test = np.load(data_root + 'test_11.npy')\n",
        "\n",
        "print('Size of training data: {}'.format(train.shape))\n",
        "print('Size of testing data: {}'.format(test.shape))"
      ],
      "execution_count": null,
      "outputs": [
        {
          "output_type": "stream",
          "text": [
            "Loading data ...\n",
            "Size of training data: (1229932, 429)\n",
            "Size of testing data: (451552, 429)\n"
          ],
          "name": "stdout"
        }
      ]
    },
    {
      "cell_type": "markdown",
      "metadata": {
        "id": "us5XW_x6udZQ"
      },
      "source": [
        "## Create Dataset"
      ]
    },
    {
      "cell_type": "code",
      "metadata": {
        "id": "Fjf5EcmJtf4e"
      },
      "source": [
        "import torch\n",
        "from torch.utils.data import Dataset\n",
        "\n",
        "class TIMITDataset(Dataset):\n",
        "    def __init__(self, X, y=None):\n",
        "        self.data = torch.from_numpy(X).float()\n",
        "        if y is not None:\n",
        "            y = y.astype(np.int)\n",
        "            self.label = torch.LongTensor(y)\n",
        "        else:\n",
        "            self.label = None\n",
        "\n",
        "    def __getitem__(self, idx):\n",
        "        if self.label is not None:\n",
        "            return self.data[idx], self.label[idx]\n",
        "        else:\n",
        "            return self.data[idx]\n",
        "\n",
        "    def __len__(self):\n",
        "        return len(self.data)\n"
      ],
      "execution_count": null,
      "outputs": []
    },
    {
      "cell_type": "markdown",
      "metadata": {
        "id": "otIC6WhGeh9v"
      },
      "source": [
        "Split the labeled data into a training set and a validation set, you can modify the variable `VAL_RATIO` to change the ratio of validation data."
      ]
    },
    {
      "cell_type": "code",
      "metadata": {
        "id": "sYqi_lAuvC59",
        "colab": {
          "base_uri": "https://localhost:8080/"
        },
        "outputId": "762c9c88-5e8d-487e-b274-a1fb6bd748b3"
      },
      "source": [
        "VAL_RATIO = 0.2\n",
        "\n",
        "percent = int(train.shape[0] * (1 - VAL_RATIO))\n",
        "train_x, train_y, val_x, val_y = train[:percent], train_label[:percent], train[percent:], train_label[percent:]\n",
        "print('Size of training set: {}'.format(train_x.shape))\n",
        "print('Size of validation set: {}'.format(val_x.shape))"
      ],
      "execution_count": null,
      "outputs": [
        {
          "output_type": "stream",
          "text": [
            "Size of training set: (983945, 429)\n",
            "Size of validation set: (245987, 429)\n"
          ],
          "name": "stdout"
        }
      ]
    },
    {
      "cell_type": "markdown",
      "metadata": {
        "id": "nbCfclUIgMTX"
      },
      "source": [
        "Create a data loader from the dataset, feel free to tweak the variable `BATCH_SIZE` here."
      ]
    },
    {
      "cell_type": "code",
      "metadata": {
        "id": "RUCbQvqJurYc"
      },
      "source": [
        "BATCH_SIZE = 256\n",
        "\n",
        "from torch.utils.data import DataLoader\n",
        "\n",
        "train_set = TIMITDataset(train_x, train_y)\n",
        "val_set = TIMITDataset(val_x, val_y)\n",
        "train_loader = DataLoader(train_set, batch_size=BATCH_SIZE, shuffle=True) #only shuffle the training data\n",
        "val_loader = DataLoader(val_set, batch_size=BATCH_SIZE, shuffle=False)"
      ],
      "execution_count": null,
      "outputs": []
    },
    {
      "cell_type": "markdown",
      "metadata": {
        "id": "_SY7X0lUgb50"
      },
      "source": [
        "Cleanup the unneeded variables to save memory.<br>\n",
        "\n",
        "**notes: if you need to use these variables later, then you may remove this block or clean up unneeded variables later<br>the data size is quite huge, so be aware of memory usage in colab**"
      ]
    },
    {
      "cell_type": "code",
      "metadata": {
        "id": "y8rzkGraeYeN",
        "colab": {
          "base_uri": "https://localhost:8080/"
        },
        "outputId": "1400f644-3a24-4afd-ee0e-229271399d5b"
      },
      "source": [
        "import gc\n",
        "\n",
        "del train, train_label, train_x, train_y, val_x, val_y\n",
        "gc.collect()"
      ],
      "execution_count": null,
      "outputs": [
        {
          "output_type": "execute_result",
          "data": {
            "text/plain": [
              "153"
            ]
          },
          "metadata": {
            "tags": []
          },
          "execution_count": 6
        }
      ]
    },
    {
      "cell_type": "markdown",
      "metadata": {
        "id": "IRqKNvNZwe3V"
      },
      "source": [
        "## Create Model"
      ]
    },
    {
      "cell_type": "markdown",
      "metadata": {
        "id": "FYr1ng5fh9pA"
      },
      "source": [
        "Define model architecture, you are encouraged to change and experiment with the model architecture."
      ]
    },
    {
      "cell_type": "code",
      "metadata": {
        "id": "lbZrwT6Ny0XL"
      },
      "source": [
        "import torch\n",
        "import torch.nn as nn\n",
        "\n",
        "class Classifier(nn.Module):\n",
        "    def __init__(self):\n",
        "        super(Classifier, self).__init__()\n",
        "        \n",
        "        self.layer1 = nn.Linear(429, 1024)\n",
        "        self.layer2 = nn.Linear(1024, 1024)\n",
        "        self.layer3 = nn.Linear(1024, 1024)\n",
        "        self.layer4 = nn.Linear(1024, 512)\n",
        "        self.layer5 = nn.Linear(512, 256)\n",
        "        self.layer6 = nn.Linear(256, 128)\n",
        "        self.layer7 = nn.Linear(128, 64)\n",
        "        self.out = nn.Linear(64, 39)\n",
        "\n",
        "        self.layer1_bn = nn.BatchNorm1d(1024)\n",
        "        self.layer2_bn = nn.BatchNorm1d(1024)\n",
        "        self.layer3_bn = nn.BatchNorm1d(1024)\n",
        "        self.layer4_bn = nn.BatchNorm1d(512)\n",
        "        self.layer5_bn = nn.BatchNorm1d(256)\n",
        "        self.layer6_bn = nn.BatchNorm1d(128)\n",
        "        self.layer7_bn = nn.BatchNorm1d(64)\n",
        "\n",
        "        '''\n",
        "        self.layer1 = nn.Linear(429, 1024)\n",
        "        self.layer2 = nn.Linear(1024, 684)\n",
        "        self.layer3 = nn.Linear(684, 458)\n",
        "        self.layer4 = nn.Linear(458, 306)\n",
        "        self.layer5 = nn.Linear(306, 204)\n",
        "        self.out = nn.Linear(204, 39)\n",
        "\n",
        "        self.layer1_bn = nn.BatchNorm1d(1024)\n",
        "        self.layer2_bn = nn.BatchNorm1d(684)\n",
        "        self.layer3_bn = nn.BatchNorm1d(458)\n",
        "        self.layer4_bn = nn.BatchNorm1d(306)\n",
        "        self.layer5_bn = nn.BatchNorm1d(204)\n",
        "        '''\n",
        "\n",
        "        self.dropout = nn.Dropout(p=0.2)\n",
        "        self.dropout_out = nn.Dropout(p=0.5)\n",
        "\n",
        "        self.act_fn = nn.PReLU()\n",
        "\n",
        "    def forward(self, x):\n",
        "        x = self.layer1(x)\n",
        "        x = self.layer1_bn(x)\n",
        "        x = self.act_fn(x)\n",
        "\n",
        "        x = self.dropout(x)\n",
        "\n",
        "        x = self.layer2(x)\n",
        "        x = self.layer2_bn(x)\n",
        "        x = self.act_fn(x)\n",
        "\n",
        "        x = self.dropout(x)\n",
        "\n",
        "        x = self.layer3(x)\n",
        "        x = self.layer3_bn(x)\n",
        "        x = self.act_fn(x)\n",
        "\n",
        "        x = self.dropout(x)\n",
        "\n",
        "        x = self.layer4(x)\n",
        "        x = self.layer4_bn(x)\n",
        "        x = self.act_fn(x)\n",
        "\n",
        "        x = self.dropout(x)\n",
        "\n",
        "        x = self.layer5(x)\n",
        "        x = self.layer5_bn(x)\n",
        "        x = self.act_fn(x)\n",
        "\n",
        "        x = self.dropout(x)\n",
        "\n",
        "        x = self.layer6(x)\n",
        "        x = self.layer6_bn(x)\n",
        "        x = self.act_fn(x)\n",
        "\n",
        "        x = self.dropout(x)\n",
        "\n",
        "        x = self.layer7(x)\n",
        "        x = self.layer7_bn(x)\n",
        "        x = self.act_fn(x)\n",
        "\n",
        "        x = self.out(x)\n",
        "\n",
        "        x = self.dropout_out(x)\n",
        "        \n",
        "        return x"
      ],
      "execution_count": null,
      "outputs": []
    },
    {
      "cell_type": "markdown",
      "metadata": {
        "id": "VRYciXZvPbYh"
      },
      "source": [
        "## Training"
      ]
    },
    {
      "cell_type": "code",
      "metadata": {
        "id": "y114Vmm3Ja6o"
      },
      "source": [
        "#check device\n",
        "def get_device():\n",
        "  return 'cuda' if torch.cuda.is_available() else 'cpu'"
      ],
      "execution_count": null,
      "outputs": []
    },
    {
      "cell_type": "markdown",
      "metadata": {
        "id": "sEX-yjHjhGuH"
      },
      "source": [
        "Fix random seeds for reproducibility."
      ]
    },
    {
      "cell_type": "code",
      "metadata": {
        "id": "88xPiUnm0tAd"
      },
      "source": [
        "# fix random seed\n",
        "def same_seeds(seed):\n",
        "    torch.manual_seed(seed)\n",
        "    if torch.cuda.is_available():\n",
        "        torch.cuda.manual_seed(seed)\n",
        "        torch.cuda.manual_seed_all(seed)  \n",
        "    np.random.seed(seed)  \n",
        "    torch.backends.cudnn.benchmark = False\n",
        "    torch.backends.cudnn.deterministic = True"
      ],
      "execution_count": null,
      "outputs": []
    },
    {
      "cell_type": "markdown",
      "metadata": {
        "id": "KbBcBXkSp6RA"
      },
      "source": [
        "Feel free to change the training parameters here."
      ]
    },
    {
      "cell_type": "code",
      "metadata": {
        "id": "QTp3ZXg1yO9Y",
        "colab": {
          "base_uri": "https://localhost:8080/"
        },
        "outputId": "d9c60b2e-a292-49fc-d9c3-e1ce63f4aff5"
      },
      "source": [
        "# fix random seed for reproducibility\n",
        "same_seeds(0)\n",
        "\n",
        "# get device \n",
        "device = get_device()\n",
        "print(f'DEVICE: {device}')\n",
        "\n",
        "# training parameters\n",
        "num_epoch = 50               # number of training epoch\n",
        "learning_rate = 0.0001       # learning rate\n",
        "\n",
        "# the path where checkpoint saved\n",
        "model_path = './model.ckpt'\n",
        "\n",
        "# create model, define a loss function, and optimizer\n",
        "model = Classifier().to(device)\n",
        "criterion = nn.CrossEntropyLoss() \n",
        "optimizer = torch.optim.AdamW(model.parameters(), lr=learning_rate, weight_decay=0.01)"
      ],
      "execution_count": null,
      "outputs": [
        {
          "output_type": "stream",
          "text": [
            "DEVICE: cuda\n"
          ],
          "name": "stdout"
        }
      ]
    },
    {
      "cell_type": "code",
      "metadata": {
        "id": "CdMWsBs7zzNs",
        "colab": {
          "base_uri": "https://localhost:8080/"
        },
        "outputId": "6d7c5fbe-a4f0-4880-b0eb-ff10483d948f"
      },
      "source": [
        "# start training\n",
        "\n",
        "best_acc = 0.0\n",
        "for epoch in range(num_epoch):\n",
        "    train_acc = 0.0\n",
        "    train_loss = 0.0\n",
        "    val_acc = 0.0\n",
        "    val_loss = 0.0\n",
        "\n",
        "    # training\n",
        "    model.train() # set the model to training mode\n",
        "    for i, data in enumerate(train_loader):\n",
        "        inputs, labels = data\n",
        "        inputs, labels = inputs.to(device), labels.to(device)\n",
        "        optimizer.zero_grad() \n",
        "        outputs = model(inputs) \n",
        "        batch_loss = criterion(outputs, labels)\n",
        "        _, train_pred = torch.max(outputs, 1) # get the index of the class with the highest probability\n",
        "        batch_loss.backward() \n",
        "        optimizer.step() \n",
        "\n",
        "        train_acc += (train_pred.cpu() == labels.cpu()).sum().item()\n",
        "        train_loss += batch_loss.item()\n",
        "\n",
        "    # validation\n",
        "    if len(val_set) > 0:\n",
        "        model.eval() # set the model to evaluation mode\n",
        "        with torch.no_grad():\n",
        "            for i, data in enumerate(val_loader):\n",
        "                inputs, labels = data\n",
        "                inputs, labels = inputs.to(device), labels.to(device)\n",
        "                outputs = model(inputs)\n",
        "                batch_loss = criterion(outputs, labels) \n",
        "                _, val_pred = torch.max(outputs, 1) \n",
        "            \n",
        "                val_acc += (val_pred.cpu() == labels.cpu()).sum().item() # get the index of the class with the highest probability\n",
        "                val_loss += batch_loss.item()\n",
        "\n",
        "            print('[{:03d}/{:03d}] Train Acc: {:3.6f} Loss: {:3.6f} | Val Acc: {:3.6f} loss: {:3.6f}'.format(\n",
        "                epoch + 1, num_epoch, train_acc/len(train_set), train_loss/len(train_loader), val_acc/len(val_set), val_loss/len(val_loader)\n",
        "            ))\n",
        "\n",
        "            # if the model improves, save a checkpoint at this epoch\n",
        "            if val_acc > best_acc:\n",
        "                best_acc = val_acc\n",
        "                torch.save(model.state_dict(), model_path)\n",
        "                print('saving model with acc {:.3f}'.format(best_acc/len(val_set)))\n",
        "    else:\n",
        "        print('[{:03d}/{:03d}] Train Acc: {:3.6f} Loss: {:3.6f}'.format(\n",
        "            epoch + 1, num_epoch, train_acc/len(train_set), train_loss/len(train_loader)\n",
        "        ))\n",
        "\n",
        "# if not validating, save the last epoch\n",
        "if len(val_set) == 0:\n",
        "    torch.save(model.state_dict(), model_path)\n",
        "    print('saving model at last epoch')\n"
      ],
      "execution_count": null,
      "outputs": [
        {
          "output_type": "stream",
          "text": [
            "[001/050] Train Acc: 0.322401 Loss: 2.614204 | Val Acc: 0.644156 loss: 1.557705\n",
            "saving model with acc 0.644\n",
            "[002/050] Train Acc: 0.365207 Loss: 2.388401 | Val Acc: 0.677430 loss: 1.364989\n",
            "saving model with acc 0.677\n",
            "[003/050] Train Acc: 0.379715 Loss: 2.319119 | Val Acc: 0.694159 loss: 1.256639\n",
            "saving model with acc 0.694\n",
            "[004/050] Train Acc: 0.387772 Loss: 2.279097 | Val Acc: 0.704362 loss: 1.206130\n",
            "saving model with acc 0.704\n",
            "[005/050] Train Acc: 0.393332 Loss: 2.249732 | Val Acc: 0.711334 loss: 1.157824\n",
            "saving model with acc 0.711\n",
            "[006/050] Train Acc: 0.398396 Loss: 2.225969 | Val Acc: 0.715985 loss: 1.124929\n",
            "saving model with acc 0.716\n",
            "[007/050] Train Acc: 0.401621 Loss: 2.208215 | Val Acc: 0.720957 loss: 1.093023\n",
            "saving model with acc 0.721\n",
            "[008/050] Train Acc: 0.406081 Loss: 2.188700 | Val Acc: 0.725103 loss: 1.066696\n",
            "saving model with acc 0.725\n",
            "[009/050] Train Acc: 0.409677 Loss: 2.173421 | Val Acc: 0.729396 loss: 1.044962\n",
            "saving model with acc 0.729\n",
            "[010/050] Train Acc: 0.412475 Loss: 2.161356 | Val Acc: 0.732466 loss: 1.027433\n",
            "saving model with acc 0.732\n",
            "[011/050] Train Acc: 0.415024 Loss: 2.149939 | Val Acc: 0.735206 loss: 1.010905\n",
            "saving model with acc 0.735\n",
            "[012/050] Train Acc: 0.417372 Loss: 2.138071 | Val Acc: 0.736571 loss: 0.999398\n",
            "saving model with acc 0.737\n",
            "[013/050] Train Acc: 0.418553 Loss: 2.130059 | Val Acc: 0.738498 loss: 0.988773\n",
            "saving model with acc 0.738\n",
            "[014/050] Train Acc: 0.420521 Loss: 2.120837 | Val Acc: 0.739169 loss: 0.979818\n",
            "saving model with acc 0.739\n",
            "[015/050] Train Acc: 0.422766 Loss: 2.113638 | Val Acc: 0.740657 loss: 0.969316\n",
            "saving model with acc 0.741\n",
            "[016/050] Train Acc: 0.425213 Loss: 2.101132 | Val Acc: 0.742702 loss: 0.955118\n",
            "saving model with acc 0.743\n",
            "[017/050] Train Acc: 0.426252 Loss: 2.096553 | Val Acc: 0.742808 loss: 0.947808\n",
            "saving model with acc 0.743\n",
            "[018/050] Train Acc: 0.427232 Loss: 2.091053 | Val Acc: 0.743186 loss: 0.942485\n",
            "saving model with acc 0.743\n",
            "[019/050] Train Acc: 0.429919 Loss: 2.079829 | Val Acc: 0.744722 loss: 0.934046\n",
            "saving model with acc 0.745\n",
            "[020/050] Train Acc: 0.429855 Loss: 2.077826 | Val Acc: 0.745328 loss: 0.925752\n",
            "saving model with acc 0.745\n",
            "[021/050] Train Acc: 0.431531 Loss: 2.070172 | Val Acc: 0.746413 loss: 0.924642\n",
            "saving model with acc 0.746\n",
            "[022/050] Train Acc: 0.432533 Loss: 2.064287 | Val Acc: 0.745995 loss: 0.916333\n",
            "[023/050] Train Acc: 0.434057 Loss: 2.057006 | Val Acc: 0.747161 loss: 0.910414\n",
            "saving model with acc 0.747\n",
            "[024/050] Train Acc: 0.434941 Loss: 2.053020 | Val Acc: 0.746381 loss: 0.908321\n",
            "[025/050] Train Acc: 0.436640 Loss: 2.045791 | Val Acc: 0.746824 loss: 0.906783\n",
            "[026/050] Train Acc: 0.437696 Loss: 2.040533 | Val Acc: 0.747048 loss: 0.900086\n",
            "[027/050] Train Acc: 0.439502 Loss: 2.034586 | Val Acc: 0.747552 loss: 0.896750\n",
            "saving model with acc 0.748\n",
            "[028/050] Train Acc: 0.438963 Loss: 2.033769 | Val Acc: 0.749658 loss: 0.887317\n",
            "saving model with acc 0.750\n",
            "[029/050] Train Acc: 0.440560 Loss: 2.027270 | Val Acc: 0.749727 loss: 0.886118\n",
            "saving model with acc 0.750\n",
            "[030/050] Train Acc: 0.440665 Loss: 2.024492 | Val Acc: 0.748662 loss: 0.888117\n",
            "[031/050] Train Acc: 0.442818 Loss: 2.017231 | Val Acc: 0.749625 loss: 0.884077\n",
            "[032/050] Train Acc: 0.443178 Loss: 2.015063 | Val Acc: 0.750353 loss: 0.881123\n",
            "saving model with acc 0.750\n",
            "[033/050] Train Acc: 0.444237 Loss: 2.010837 | Val Acc: 0.749779 loss: 0.876130\n",
            "[034/050] Train Acc: 0.444580 Loss: 2.007095 | Val Acc: 0.751540 loss: 0.871966\n",
            "saving model with acc 0.752\n",
            "[035/050] Train Acc: 0.444772 Loss: 2.006170 | Val Acc: 0.750719 loss: 0.869578\n",
            "[036/050] Train Acc: 0.446019 Loss: 2.001405 | Val Acc: 0.750092 loss: 0.872510\n",
            "[037/050] Train Acc: 0.447155 Loss: 1.995678 | Val Acc: 0.750117 loss: 0.867670\n",
            "[038/050] Train Acc: 0.447767 Loss: 1.992472 | Val Acc: 0.749999 loss: 0.873139\n",
            "[039/050] Train Acc: 0.448309 Loss: 1.990237 | Val Acc: 0.751235 loss: 0.862551\n",
            "[040/050] Train Acc: 0.448821 Loss: 1.986627 | Val Acc: 0.750605 loss: 0.868966\n",
            "[041/050] Train Acc: 0.449549 Loss: 1.983526 | Val Acc: 0.751149 loss: 0.856698\n",
            "[042/050] Train Acc: 0.449836 Loss: 1.982422 | Val Acc: 0.751113 loss: 0.857950\n",
            "[043/050] Train Acc: 0.451904 Loss: 1.973511 | Val Acc: 0.750967 loss: 0.859326\n",
            "[044/050] Train Acc: 0.451664 Loss: 1.974032 | Val Acc: 0.751251 loss: 0.853860\n",
            "[045/050] Train Acc: 0.452421 Loss: 1.972482 | Val Acc: 0.751332 loss: 0.854350\n",
            "[046/050] Train Acc: 0.453801 Loss: 1.967460 | Val Acc: 0.750690 loss: 0.855229\n",
            "[047/050] Train Acc: 0.454121 Loss: 1.965162 | Val Acc: 0.750816 loss: 0.855299\n",
            "[048/050] Train Acc: 0.454175 Loss: 1.963050 | Val Acc: 0.750401 loss: 0.856183\n",
            "[049/050] Train Acc: 0.454534 Loss: 1.962383 | Val Acc: 0.749950 loss: 0.852694\n",
            "[050/050] Train Acc: 0.455521 Loss: 1.957851 | Val Acc: 0.751788 loss: 0.846153\n",
            "saving model with acc 0.752\n"
          ],
          "name": "stdout"
        }
      ]
    },
    {
      "cell_type": "markdown",
      "metadata": {
        "id": "1Hi7jTn3PX-m"
      },
      "source": [
        "## Testing"
      ]
    },
    {
      "cell_type": "markdown",
      "metadata": {
        "id": "NfUECMFCn5VG"
      },
      "source": [
        "Create a testing dataset, and load model from the saved checkpoint."
      ]
    },
    {
      "cell_type": "code",
      "metadata": {
        "id": "1PKjtAScPWtr",
        "colab": {
          "base_uri": "https://localhost:8080/"
        },
        "outputId": "a602323f-4c97-4aa7-bc93-e3b4a9b4d517"
      },
      "source": [
        "# create testing dataset\n",
        "test_set = TIMITDataset(test, None)\n",
        "test_loader = DataLoader(test_set, batch_size=BATCH_SIZE, shuffle=False)\n",
        "\n",
        "# create model and load weights from checkpoint\n",
        "model = Classifier().to(device)\n",
        "model.load_state_dict(torch.load(model_path))"
      ],
      "execution_count": null,
      "outputs": [
        {
          "output_type": "execute_result",
          "data": {
            "text/plain": [
              "<All keys matched successfully>"
            ]
          },
          "metadata": {
            "tags": []
          },
          "execution_count": 12
        }
      ]
    },
    {
      "cell_type": "markdown",
      "metadata": {
        "id": "940TtCCdoYd0"
      },
      "source": [
        "Make prediction."
      ]
    },
    {
      "cell_type": "code",
      "metadata": {
        "id": "84HU5GGjPqR0"
      },
      "source": [
        "predict = []\n",
        "model.eval() # set the model to evaluation mode\n",
        "with torch.no_grad():\n",
        "    for i, data in enumerate(test_loader):\n",
        "        inputs = data\n",
        "        inputs = inputs.to(device)\n",
        "        outputs = model(inputs)\n",
        "        _, test_pred = torch.max(outputs, 1) # get the index of the class with the highest probability\n",
        "\n",
        "        for y in test_pred.cpu().numpy():\n",
        "            predict.append(y)"
      ],
      "execution_count": null,
      "outputs": []
    },
    {
      "cell_type": "markdown",
      "metadata": {
        "id": "AWDf_C-omElb"
      },
      "source": [
        "Write prediction to a CSV file.\n",
        "\n",
        "After finish running this block, download the file `prediction.csv` from the files section on the left-hand side and submit it to Kaggle."
      ]
    },
    {
      "cell_type": "code",
      "metadata": {
        "id": "GuljYSPHcZir"
      },
      "source": [
        "with open('prediction.csv', 'w') as f:\n",
        "    f.write('Id,Class\\n')\n",
        "    for i, y in enumerate(predict):\n",
        "        f.write('{},{}\\n'.format(i, y))"
      ],
      "execution_count": null,
      "outputs": []
    }
  ]
}