{
  "nbformat": 4,
  "nbformat_minor": 0,
  "metadata": {
    "colab": {
      "name": "HW01.ipynb",
      "provenance": [],
      "collapsed_sections": []
    },
    "kernelspec": {
      "name": "python3",
      "display_name": "Python 3"
    },
    "accelerator": "GPU"
  },
  "cells": [
    {
      "cell_type": "markdown",
      "metadata": {
        "id": "view-in-github"
      },
      "source": [
        "<a href=\"https://colab.research.google.com/github/ga642381/ML2021-Spring/blob/main/HW01/HW01.ipynb\" target=\"_parent\"><img src=\"https://colab.research.google.com/assets/colab-badge.svg\" alt=\"Open In Colab\"/></a>"
      ]
    },
    {
      "cell_type": "markdown",
      "metadata": {
        "id": "mz0_QVkxCrX3"
      },
      "source": [
        "# **Homework 1: COVID-19 Cases Prediction (Regression)**"
      ]
    },
    {
      "cell_type": "markdown",
      "metadata": {
        "id": "ZeZnPAiwDRWG"
      },
      "source": [
        "Author: Heng-Jui Chang\n",
        "\n",
        "Slides: https://github.com/ga642381/ML2021-Spring/blob/main/HW01/HW01.pdf  \n",
        "Video: TBA\n",
        "\n",
        "Objectives:\n",
        "* Solve a regression problem with deep neural networks (DNN).\n",
        "* Understand basic DNN training tips.\n",
        "* Get familiar with PyTorch.\n",
        "\n",
        "If any questions, please contact the TAs via TA hours, NTU COOL, or email.\n"
      ]
    },
    {
      "cell_type": "markdown",
      "metadata": {
        "id": "Jx3x1nDkG-Uy"
      },
      "source": [
        "# **Download Data**\n",
        "\n",
        "\n",
        "If the Google drive links are dead, you can download data from [kaggle](https://www.kaggle.com/c/ml2021spring-hw1/data), and upload data manually to the workspace."
      ]
    },
    {
      "cell_type": "code",
      "metadata": {
        "colab": {
          "base_uri": "https://localhost:8080/"
        },
        "id": "tMj55YDKG6ch",
        "outputId": "38c8f8cf-712a-4d94-e622-fb8fb1aa5270"
      },
      "source": [
        "tr_path = 'covid.train.csv'  # path to training data\n",
        "tt_path = 'covid.test.csv'   # path to testing data\n",
        "\n",
        "!gdown --id '19CCyCgJrUxtvgZF53vnctJiOJ23T5mqF' --output covid.train.csv\n",
        "!gdown --id '1CE240jLm2npU-tdz81-oVKEF3T2yfT1O' --output covid.test.csv"
      ],
      "execution_count": 17,
      "outputs": [
        {
          "output_type": "stream",
          "text": [
            "Downloading...\n",
            "From: https://drive.google.com/uc?id=19CCyCgJrUxtvgZF53vnctJiOJ23T5mqF\n",
            "To: /content/covid.train.csv\n",
            "100% 2.00M/2.00M [00:00<00:00, 31.7MB/s]\n",
            "Downloading...\n",
            "From: https://drive.google.com/uc?id=1CE240jLm2npU-tdz81-oVKEF3T2yfT1O\n",
            "To: /content/covid.test.csv\n",
            "100% 651k/651k [00:00<00:00, 10.2MB/s]\n"
          ],
          "name": "stdout"
        }
      ]
    },
    {
      "cell_type": "markdown",
      "metadata": {
        "id": "wS_4-77xHk44"
      },
      "source": [
        "# **Import Some Packages**"
      ]
    },
    {
      "cell_type": "code",
      "metadata": {
        "id": "k-onQd4JNA5H"
      },
      "source": [
        "# PyTorch\n",
        "import torch\n",
        "import torch.nn as nn\n",
        "from torch.utils.data import Dataset, DataLoader\n",
        "\n",
        "# For data preprocess\n",
        "import numpy as np\n",
        "import csv\n",
        "import os\n",
        "\n",
        "# For plotting\n",
        "import matplotlib.pyplot as plt\n",
        "from matplotlib.pyplot import figure\n",
        "\n",
        "myseed = 42069  # set a random seed for reproducibility\n",
        "torch.backends.cudnn.deterministic = True\n",
        "torch.backends.cudnn.benchmark = False\n",
        "np.random.seed(myseed)\n",
        "torch.manual_seed(myseed)\n",
        "if torch.cuda.is_available():\n",
        "    torch.cuda.manual_seed_all(myseed)"
      ],
      "execution_count": 18,
      "outputs": []
    },
    {
      "cell_type": "markdown",
      "metadata": {
        "id": "BtE3b6JEH7rw"
      },
      "source": [
        "# **Some Utilities**\n",
        "\n",
        "You do not need to modify this part."
      ]
    },
    {
      "cell_type": "code",
      "metadata": {
        "id": "FWMT3uf1NGQp"
      },
      "source": [
        "def get_device():\n",
        "    ''' Get device (if GPU is available, use GPU) '''\n",
        "    return 'cuda' if torch.cuda.is_available() else 'cpu'\n",
        "\n",
        "def plot_learning_curve(loss_record, title=''):\n",
        "    ''' Plot learning curve of your DNN (train & dev loss) '''\n",
        "    total_steps = len(loss_record['train'])\n",
        "    x_1 = range(total_steps)\n",
        "    x_2 = x_1[::len(loss_record['train']) // len(loss_record['dev'])]\n",
        "    figure(figsize=(6, 4))\n",
        "    plt.plot(x_1, loss_record['train'], c='tab:red', label='train')\n",
        "    plt.plot(x_2, loss_record['dev'], c='tab:cyan', label='dev')\n",
        "    plt.ylim(0.0, 5.)\n",
        "    plt.xlabel('Training steps')\n",
        "    plt.ylabel('MSE loss')\n",
        "    plt.title('Learning curve of {}'.format(title))\n",
        "    plt.legend()\n",
        "    plt.show()\n",
        "\n",
        "\n",
        "def plot_pred(dv_set, model, device, lim=35., preds=None, targets=None):\n",
        "    ''' Plot prediction of your DNN '''\n",
        "    if preds is None or targets is None:\n",
        "        model.eval()\n",
        "        preds, targets = [], []\n",
        "        for x, y in dv_set:\n",
        "            x, y = x.to(device), y.to(device)\n",
        "            with torch.no_grad():\n",
        "                pred = model(x)\n",
        "                preds.append(pred.detach().cpu())\n",
        "                targets.append(y.detach().cpu())\n",
        "        preds = torch.cat(preds, dim=0).numpy()\n",
        "        targets = torch.cat(targets, dim=0).numpy()\n",
        "\n",
        "    figure(figsize=(5, 5))\n",
        "    plt.scatter(targets, preds, c='r', alpha=0.5)\n",
        "    plt.plot([-0.2, lim], [-0.2, lim], c='b')\n",
        "    plt.xlim(-0.2, lim)\n",
        "    plt.ylim(-0.2, lim)\n",
        "    plt.xlabel('ground truth value')\n",
        "    plt.ylabel('predicted value')\n",
        "    plt.title('Ground Truth v.s. Prediction')\n",
        "    plt.show()"
      ],
      "execution_count": 19,
      "outputs": []
    },
    {
      "cell_type": "markdown",
      "metadata": {
        "id": "39U_XFX6KOoj"
      },
      "source": [
        "# **Preprocess**\n",
        "\n",
        "We have three kinds of datasets:\n",
        "* `train`: for training\n",
        "* `dev`: for validation\n",
        "* `test`: for testing (w/o target value)"
      ]
    },
    {
      "cell_type": "markdown",
      "metadata": {
        "id": "TQ-MdwpLL7Dt"
      },
      "source": [
        "## **Dataset**\n",
        "\n",
        "The `COVID19Dataset` below does:\n",
        "* read `.csv` files\n",
        "* extract features\n",
        "* split `covid.train.csv` into train/dev sets\n",
        "* normalize features\n",
        "\n",
        "Finishing `TODO` below might make you pass medium baseline."
      ]
    },
    {
      "cell_type": "code",
      "metadata": {
        "id": "0zlpIp9ANJRU"
      },
      "source": [
        "class COVID19Dataset(Dataset):\n",
        "    ''' Dataset for loading and preprocessing the COVID19 dataset '''\n",
        "    def __init__(self,\n",
        "                 path,\n",
        "                 mode='train',\n",
        "                 target_only=False):\n",
        "        self.mode = mode\n",
        "\n",
        "        # Read data into numpy arrays\n",
        "        with open(path, 'r') as fp:\n",
        "            data = list(csv.reader(fp))\n",
        "            data = np.array(data[1:])[:, 1:].astype(float)\n",
        "        \n",
        "        if not target_only:\n",
        "            feats = list(range(93))\n",
        "        else:\n",
        "            # TODO: Using 40 states & 2 tested_positive features (indices = 57 & 75)\n",
        "            feats = [40, 41, 42, 43, 57,\\\n",
        "                     58, 59, 60, 61, 75,\\\n",
        "                     76, 77, 78, 79]\n",
        "            pass\n",
        "\n",
        "        if mode == 'test':\n",
        "            # Testing data\n",
        "            # data: 893 x 93 (40 states + day 1 (18) + day 2 (18) + day 3 (17))\n",
        "            data = data[:, feats]\n",
        "            self.data = torch.FloatTensor(data)\n",
        "        else:\n",
        "            # Training data (train/dev sets)\n",
        "            # data: 2700 x 94 (40 states + day 1 (18) + day 2 (18) + day 3 (18))\n",
        "            target = data[:, -1]\n",
        "            data = data[:, feats]\n",
        "            \n",
        "            # Splitting training data into train & dev sets\n",
        "            if mode == 'train':\n",
        "                indices = [i for i in range(len(data)) if i % 10 != 1]\n",
        "            elif mode == 'dev':\n",
        "                indices = [i for i in range(len(data)) if i % 10 == 1]\n",
        "            \n",
        "            # Convert data into PyTorch tensors\n",
        "            self.data = torch.FloatTensor(data[indices])\n",
        "            self.target = torch.FloatTensor(target[indices])\n",
        "\n",
        "        # Normalize features (you may remove this part to see what will happen)\n",
        "\n",
        "       # self.data[:, :] = \\\n",
        "       #     (self.data[:, :] - self.data[:, :].mean(dim=0, keepdim=True)) \\\n",
        "       #     / self.data[:, :].std(dim=0, keepdim=True)\n",
        "\n",
        "        self.dim = self.data.shape[1]\n",
        "\n",
        "        print('Finished reading the {} set of COVID19 Dataset ({} samples found, each dim = {})'\n",
        "              .format(mode, len(self.data), self.dim))\n",
        "\n",
        "    def __getitem__(self, index):\n",
        "        # Returns one sample at a time\n",
        "        if self.mode in ['train', 'dev']:\n",
        "            # For training\n",
        "            return self.data[index], self.target[index]\n",
        "        else:\n",
        "            # For testing (no target)\n",
        "            return self.data[index]\n",
        "\n",
        "    def __len__(self):\n",
        "        # Returns the size of the dataset\n",
        "        return len(self.data)"
      ],
      "execution_count": 20,
      "outputs": []
    },
    {
      "cell_type": "markdown",
      "metadata": {
        "id": "AlhTlkE7MDo3"
      },
      "source": [
        "## **DataLoader**\n",
        "\n",
        "A `DataLoader` loads data from a given `Dataset` into batches.\n"
      ]
    },
    {
      "cell_type": "code",
      "metadata": {
        "id": "hlhLk5t6MBX3"
      },
      "source": [
        "def prep_dataloader(path, mode, batch_size, n_jobs=0, target_only=False):\n",
        "    ''' Generates a dataset, then is put into a dataloader. '''\n",
        "    dataset = COVID19Dataset(path, mode=mode, target_only=target_only)  # Construct dataset\n",
        "    dataloader = DataLoader(\n",
        "        dataset, batch_size,\n",
        "        shuffle=(mode == 'train'), drop_last=False,\n",
        "        num_workers=n_jobs, pin_memory=True)                            # Construct dataloader\n",
        "    return dataloader"
      ],
      "execution_count": 21,
      "outputs": []
    },
    {
      "cell_type": "markdown",
      "metadata": {
        "id": "SGuycwR0MeQB"
      },
      "source": [
        "# **Deep Neural Network**\n",
        "\n",
        "`NeuralNet` is an `nn.Module` designed for regression.\n",
        "The DNN consists of 2 fully-connected layers with ReLU activation.\n",
        "This module also included a function `cal_loss` for calculating loss.\n"
      ]
    },
    {
      "cell_type": "code",
      "metadata": {
        "id": "49-uXYovOAI0"
      },
      "source": [
        "class NeuralNet(nn.Module):\n",
        "    ''' A simple fully-connected deep neural network '''\n",
        "    def __init__(self, input_dim):\n",
        "        super(NeuralNet, self).__init__()\n",
        "\n",
        "        # Define your neural network here\n",
        "        # TODO: How to modify this model to achieve better performance?\n",
        "        self.net = nn.Sequential(\n",
        "            nn.Linear(input_dim, 10),\n",
        "            nn.ReLU(),\n",
        "            nn.Linear(10, 1)\n",
        "        )\n",
        "\n",
        "        # Mean squared error loss\n",
        "        self.criterion = nn.MSELoss(reduction='mean')\n",
        "\n",
        "    def forward(self, x):\n",
        "        ''' Given input of size (batch_size x input_dim), compute output of the network '''\n",
        "        return self.net(x).squeeze(1)\n",
        "\n",
        "    def cal_loss(self, pred, target):\n",
        "        ''' Calculate loss '''\n",
        "        # TODO: you may implement L2 regularization here\n",
        "\n",
        "        l2_loss = self.criterion(pred, target)\n",
        "        l2_lambda = 0.00005\n",
        "        l2_reg = torch.tensor(0.).to('cuda')\n",
        "        for param in model.parameters():\n",
        "            l2_reg += torch.norm(param)\n",
        "        l2_loss += l2_lambda * l2_reg  \n",
        "\n",
        "        return l2_loss    #self.criterion(pred, target)"
      ],
      "execution_count": 22,
      "outputs": []
    },
    {
      "cell_type": "markdown",
      "metadata": {
        "id": "DvFWVjZ5Nvga"
      },
      "source": [
        "# **Train/Dev/Test**"
      ]
    },
    {
      "cell_type": "markdown",
      "metadata": {
        "id": "MAM8QecJOyqn"
      },
      "source": [
        "## **Training**"
      ]
    },
    {
      "cell_type": "code",
      "metadata": {
        "id": "lOqcmYzMO7jB"
      },
      "source": [
        "def train(tr_set, dv_set, model, config, device):\n",
        "    ''' DNN training '''\n",
        "\n",
        "    n_epochs = config['n_epochs']  # Maximum number of epochs\n",
        "\n",
        "    # Setup optimizer\n",
        "\n",
        "    optimizer = getattr(torch.optim, config['optimizer'])(\n",
        "       model.parameters(), **config['optim_hparas'])\n",
        "    \n",
        "    # optimizer = torch.optim.Adam(model.parameters(), lr = 0.0001, weight_decay = 0.00001)\n",
        "\n",
        "    min_mse = 1000.\n",
        "    loss_record = {'train': [], 'dev': []}      # for recording training loss\n",
        "    early_stop_cnt = 0\n",
        "    epoch = 0\n",
        "    while epoch < n_epochs:\n",
        "        model.train()                           # set model to training mode\n",
        "        for x, y in tr_set:                     # iterate through the dataloader\n",
        "            optimizer.zero_grad()               # set gradient to zero\n",
        "            x, y = x.to(device), y.to(device)   # move data to device (cpu/cuda)\n",
        "            pred = model(x)                     # forward pass (compute output)\n",
        "            mse_loss = model.cal_loss(pred, y)  # compute loss\n",
        "            mse_loss.backward()                 # compute gradient (backpropagation)\n",
        "            optimizer.step()                    # update model with optimizer\n",
        "            loss_record['train'].append(mse_loss.detach().cpu().item())\n",
        "\n",
        "        # After each epoch, test your model on the validation (development) set.\n",
        "        dev_mse = dev(dv_set, model, device)\n",
        "        if dev_mse < min_mse:\n",
        "            # Save model if your model improved\n",
        "            min_mse = dev_mse\n",
        "            print('Saving model (epoch = {:4d}, loss = {:.4f})'\n",
        "                .format(epoch + 1, min_mse))\n",
        "            torch.save(model.state_dict(), config['save_path'])  # Save model to specified path\n",
        "            early_stop_cnt = 0\n",
        "        else:\n",
        "            early_stop_cnt += 1\n",
        "\n",
        "        epoch += 1\n",
        "        loss_record['dev'].append(dev_mse)\n",
        "        if early_stop_cnt > config['early_stop']:\n",
        "            # Stop training if your model stops improving for \"config['early_stop']\" epochs.\n",
        "            break\n",
        "\n",
        "    print('Finished training after {} epochs'.format(epoch))\n",
        "    return min_mse, loss_record"
      ],
      "execution_count": 23,
      "outputs": []
    },
    {
      "cell_type": "markdown",
      "metadata": {
        "id": "0hSd4Bn3O2PL"
      },
      "source": [
        "## **Validation**"
      ]
    },
    {
      "cell_type": "code",
      "metadata": {
        "id": "yrxrD3YsN3U2"
      },
      "source": [
        "def dev(dv_set, model, device):\n",
        "    model.eval()                                # set model to evalutation mode\n",
        "    total_loss = 0\n",
        "    for x, y in dv_set:                         # iterate through the dataloader\n",
        "        x, y = x.to(device), y.to(device)       # move data to device (cpu/cuda)\n",
        "        with torch.no_grad():                   # disable gradient calculation\n",
        "            pred = model(x)                     # forward pass (compute output)\n",
        "            mse_loss = model.cal_loss(pred, y)  # compute loss\n",
        "        total_loss += mse_loss.detach().cpu().item() * len(x)  # accumulate loss\n",
        "    total_loss = total_loss / len(dv_set.dataset)              # compute averaged loss\n",
        "\n",
        "    return total_loss"
      ],
      "execution_count": 24,
      "outputs": []
    },
    {
      "cell_type": "markdown",
      "metadata": {
        "id": "g0pdrhQAO41L"
      },
      "source": [
        "## **Testing**"
      ]
    },
    {
      "cell_type": "code",
      "metadata": {
        "id": "aSBMRFlYN5tB"
      },
      "source": [
        "def test(tt_set, model, device):\n",
        "    model.eval()                                # set model to evalutation mode\n",
        "    preds = []\n",
        "    for x in tt_set:                            # iterate through the dataloader\n",
        "        x = x.to(device)                        # move data to device (cpu/cuda)\n",
        "        with torch.no_grad():                   # disable gradient calculation\n",
        "            pred = model(x)                     # forward pass (compute output)\n",
        "            preds.append(pred.detach().cpu())   # collect prediction\n",
        "    preds = torch.cat(preds, dim=0).numpy()     # concatenate all predictions and convert to a numpy array\n",
        "    return preds"
      ],
      "execution_count": 25,
      "outputs": []
    },
    {
      "cell_type": "markdown",
      "metadata": {
        "id": "SvckkF5dvf0j"
      },
      "source": [
        "# **Setup Hyper-parameters**\n",
        "\n",
        "`config` contains hyper-parameters for training and the path to save your model."
      ]
    },
    {
      "cell_type": "code",
      "metadata": {
        "id": "NPXpdumwPjE7"
      },
      "source": [
        "device = get_device()                 # get the current available device ('cpu' or 'cuda')\n",
        "os.makedirs('models', exist_ok=True)  # The trained model will be saved to ./models/\n",
        "target_only = True                  # TODO: Using 40 states & 2 tested_positive features\n",
        "\n",
        "# TODO: How to tune these hyper-parameters to improve your model's performance?\n",
        "config = {\n",
        "    'n_epochs': 10000,                # maximum number of epochs\n",
        "    'batch_size': 32,                # mini-batch size for dataloader\n",
        "    'optimizer': 'AdamW',            # optimization algorithm (optimizer in torch.optim)\n",
        "    'optim_hparas': {                # hyper-parameters for the optimizer (depends on which optimizer you are using)\n",
        "        'lr': 0.0001,                # learning rate of SGD\n",
        "        'weight_decay': 0.0001\n",
        "    #   'momentum': 0.9              # momentum for SGD\n",
        "    },\n",
        "    'early_stop': 200,               # early stopping epochs (the number epochs since your model's last improvement)\n",
        "    'save_path': 'models/model.pth'  # your model will be saved here\n",
        "}"
      ],
      "execution_count": 26,
      "outputs": []
    },
    {
      "cell_type": "markdown",
      "metadata": {
        "id": "6j1eOV3TOH-j"
      },
      "source": [
        "# **Load data and model**"
      ]
    },
    {
      "cell_type": "code",
      "metadata": {
        "colab": {
          "base_uri": "https://localhost:8080/"
        },
        "id": "eNrYBMmePLKm",
        "outputId": "4446fe3f-8acb-477f-852c-9117f950b4ca"
      },
      "source": [
        "tr_set = prep_dataloader(tr_path, 'train', config['batch_size'], target_only=target_only)\n",
        "dv_set = prep_dataloader(tr_path, 'dev', config['batch_size'], target_only=target_only)\n",
        "tt_set = prep_dataloader(tt_path, 'test', config['batch_size'], target_only=target_only)"
      ],
      "execution_count": 27,
      "outputs": [
        {
          "output_type": "stream",
          "text": [
            "Finished reading the train set of COVID19 Dataset (2430 samples found, each dim = 14)\n",
            "Finished reading the dev set of COVID19 Dataset (270 samples found, each dim = 14)\n",
            "Finished reading the test set of COVID19 Dataset (893 samples found, each dim = 14)\n"
          ],
          "name": "stdout"
        }
      ]
    },
    {
      "cell_type": "code",
      "metadata": {
        "id": "FHylSirLP9oh"
      },
      "source": [
        "model = NeuralNet(tr_set.dataset.dim).to(device)  # Construct model and move to device"
      ],
      "execution_count": 28,
      "outputs": []
    },
    {
      "cell_type": "markdown",
      "metadata": {
        "id": "sX2B_zgSOPTJ"
      },
      "source": [
        "# **Start Training!**"
      ]
    },
    {
      "cell_type": "code",
      "metadata": {
        "colab": {
          "base_uri": "https://localhost:8080/"
        },
        "id": "GrEbUxazQAAZ",
        "outputId": "75c1d5cb-82f8-4473-efe2-d6258ce85e71"
      },
      "source": [
        "model_loss, model_loss_record = train(tr_set, dv_set, model, config, device)"
      ],
      "execution_count": 29,
      "outputs": [
        {
          "output_type": "stream",
          "text": [
            "Saving model (epoch =    1, loss = 188.4321)\n",
            "Saving model (epoch =    2, loss = 155.2859)\n",
            "Saving model (epoch =    3, loss = 111.3409)\n",
            "Saving model (epoch =    4, loss = 79.7293)\n",
            "Saving model (epoch =    5, loss = 56.4003)\n",
            "Saving model (epoch =    6, loss = 39.8114)\n",
            "Saving model (epoch =    7, loss = 28.6478)\n",
            "Saving model (epoch =    8, loss = 21.7962)\n",
            "Saving model (epoch =    9, loss = 17.9295)\n",
            "Saving model (epoch =   10, loss = 15.9581)\n",
            "Saving model (epoch =   11, loss = 15.0016)\n",
            "Saving model (epoch =   12, loss = 14.5550)\n",
            "Saving model (epoch =   13, loss = 14.3113)\n",
            "Saving model (epoch =   14, loss = 14.1472)\n",
            "Saving model (epoch =   15, loss = 14.0122)\n",
            "Saving model (epoch =   16, loss = 13.8884)\n",
            "Saving model (epoch =   17, loss = 13.7702)\n",
            "Saving model (epoch =   18, loss = 13.5826)\n",
            "Saving model (epoch =   19, loss = 13.2764)\n",
            "Saving model (epoch =   20, loss = 12.9976)\n",
            "Saving model (epoch =   21, loss = 12.7229)\n",
            "Saving model (epoch =   22, loss = 12.4508)\n",
            "Saving model (epoch =   23, loss = 12.1888)\n",
            "Saving model (epoch =   24, loss = 11.9079)\n",
            "Saving model (epoch =   25, loss = 11.6251)\n",
            "Saving model (epoch =   26, loss = 11.3451)\n",
            "Saving model (epoch =   27, loss = 11.0644)\n",
            "Saving model (epoch =   28, loss = 10.7779)\n",
            "Saving model (epoch =   29, loss = 10.4874)\n",
            "Saving model (epoch =   30, loss = 10.2013)\n",
            "Saving model (epoch =   31, loss = 9.9097)\n",
            "Saving model (epoch =   32, loss = 9.6189)\n",
            "Saving model (epoch =   33, loss = 9.3303)\n",
            "Saving model (epoch =   34, loss = 9.0447)\n",
            "Saving model (epoch =   35, loss = 8.7649)\n",
            "Saving model (epoch =   36, loss = 8.4726)\n",
            "Saving model (epoch =   37, loss = 8.1834)\n",
            "Saving model (epoch =   38, loss = 7.8998)\n",
            "Saving model (epoch =   39, loss = 7.6183)\n",
            "Saving model (epoch =   40, loss = 7.3480)\n",
            "Saving model (epoch =   41, loss = 7.0664)\n",
            "Saving model (epoch =   42, loss = 6.7891)\n",
            "Saving model (epoch =   43, loss = 6.5163)\n",
            "Saving model (epoch =   44, loss = 6.2532)\n",
            "Saving model (epoch =   45, loss = 5.9914)\n",
            "Saving model (epoch =   46, loss = 5.7373)\n",
            "Saving model (epoch =   47, loss = 5.4882)\n",
            "Saving model (epoch =   48, loss = 5.2496)\n",
            "Saving model (epoch =   49, loss = 5.0127)\n",
            "Saving model (epoch =   50, loss = 4.7943)\n",
            "Saving model (epoch =   51, loss = 4.5630)\n",
            "Saving model (epoch =   52, loss = 4.3461)\n",
            "Saving model (epoch =   53, loss = 4.1561)\n",
            "Saving model (epoch =   54, loss = 3.9456)\n",
            "Saving model (epoch =   55, loss = 3.7514)\n",
            "Saving model (epoch =   56, loss = 3.5814)\n",
            "Saving model (epoch =   57, loss = 3.3963)\n",
            "Saving model (epoch =   58, loss = 3.2327)\n",
            "Saving model (epoch =   59, loss = 3.0742)\n",
            "Saving model (epoch =   60, loss = 2.9329)\n",
            "Saving model (epoch =   61, loss = 2.7950)\n",
            "Saving model (epoch =   62, loss = 2.6627)\n",
            "Saving model (epoch =   63, loss = 2.5496)\n",
            "Saving model (epoch =   64, loss = 2.4314)\n",
            "Saving model (epoch =   65, loss = 2.3248)\n",
            "Saving model (epoch =   66, loss = 2.2228)\n",
            "Saving model (epoch =   67, loss = 2.1362)\n",
            "Saving model (epoch =   68, loss = 2.0535)\n",
            "Saving model (epoch =   69, loss = 1.9774)\n",
            "Saving model (epoch =   70, loss = 1.9088)\n",
            "Saving model (epoch =   71, loss = 1.8565)\n",
            "Saving model (epoch =   72, loss = 1.7971)\n",
            "Saving model (epoch =   73, loss = 1.7427)\n",
            "Saving model (epoch =   74, loss = 1.6965)\n",
            "Saving model (epoch =   75, loss = 1.6617)\n",
            "Saving model (epoch =   76, loss = 1.6231)\n",
            "Saving model (epoch =   77, loss = 1.5937)\n",
            "Saving model (epoch =   78, loss = 1.5671)\n",
            "Saving model (epoch =   79, loss = 1.5484)\n",
            "Saving model (epoch =   80, loss = 1.5252)\n",
            "Saving model (epoch =   81, loss = 1.5076)\n",
            "Saving model (epoch =   82, loss = 1.4931)\n",
            "Saving model (epoch =   83, loss = 1.4762)\n",
            "Saving model (epoch =   84, loss = 1.4663)\n",
            "Saving model (epoch =   85, loss = 1.4557)\n",
            "Saving model (epoch =   86, loss = 1.4481)\n",
            "Saving model (epoch =   87, loss = 1.4405)\n",
            "Saving model (epoch =   88, loss = 1.4342)\n",
            "Saving model (epoch =   89, loss = 1.4297)\n",
            "Saving model (epoch =   90, loss = 1.4256)\n",
            "Saving model (epoch =   91, loss = 1.4217)\n",
            "Saving model (epoch =   94, loss = 1.4147)\n",
            "Saving model (epoch =   95, loss = 1.4114)\n",
            "Saving model (epoch =   98, loss = 1.4064)\n",
            "Saving model (epoch =  100, loss = 1.4037)\n",
            "Saving model (epoch =  103, loss = 1.4000)\n",
            "Saving model (epoch =  104, loss = 1.3988)\n",
            "Saving model (epoch =  106, loss = 1.3966)\n",
            "Saving model (epoch =  107, loss = 1.3958)\n",
            "Saving model (epoch =  108, loss = 1.3943)\n",
            "Saving model (epoch =  109, loss = 1.3934)\n",
            "Saving model (epoch =  111, loss = 1.3925)\n",
            "Saving model (epoch =  112, loss = 1.3901)\n",
            "Saving model (epoch =  113, loss = 1.3901)\n",
            "Saving model (epoch =  115, loss = 1.3870)\n",
            "Saving model (epoch =  116, loss = 1.3865)\n",
            "Saving model (epoch =  117, loss = 1.3855)\n",
            "Saving model (epoch =  120, loss = 1.3841)\n",
            "Saving model (epoch =  121, loss = 1.3819)\n",
            "Saving model (epoch =  122, loss = 1.3792)\n",
            "Saving model (epoch =  125, loss = 1.3655)\n",
            "Saving model (epoch =  128, loss = 1.3572)\n",
            "Saving model (epoch =  129, loss = 1.3557)\n",
            "Saving model (epoch =  130, loss = 1.3530)\n",
            "Saving model (epoch =  131, loss = 1.3522)\n",
            "Saving model (epoch =  132, loss = 1.3489)\n",
            "Saving model (epoch =  136, loss = 1.3429)\n",
            "Saving model (epoch =  137, loss = 1.3419)\n",
            "Saving model (epoch =  140, loss = 1.3352)\n",
            "Saving model (epoch =  141, loss = 1.3325)\n",
            "Saving model (epoch =  142, loss = 1.3319)\n",
            "Saving model (epoch =  143, loss = 1.3291)\n",
            "Saving model (epoch =  146, loss = 1.3249)\n",
            "Saving model (epoch =  147, loss = 1.3233)\n",
            "Saving model (epoch =  148, loss = 1.3210)\n",
            "Saving model (epoch =  150, loss = 1.3191)\n",
            "Saving model (epoch =  153, loss = 1.3133)\n",
            "Saving model (epoch =  154, loss = 1.3118)\n",
            "Saving model (epoch =  157, loss = 1.3096)\n",
            "Saving model (epoch =  158, loss = 1.3057)\n",
            "Saving model (epoch =  159, loss = 1.3041)\n",
            "Saving model (epoch =  160, loss = 1.3025)\n",
            "Saving model (epoch =  162, loss = 1.2996)\n",
            "Saving model (epoch =  164, loss = 1.2973)\n",
            "Saving model (epoch =  165, loss = 1.2973)\n",
            "Saving model (epoch =  166, loss = 1.2956)\n",
            "Saving model (epoch =  167, loss = 1.2925)\n",
            "Saving model (epoch =  169, loss = 1.2895)\n",
            "Saving model (epoch =  172, loss = 1.2861)\n",
            "Saving model (epoch =  173, loss = 1.2840)\n",
            "Saving model (epoch =  176, loss = 1.2801)\n",
            "Saving model (epoch =  179, loss = 1.2767)\n",
            "Saving model (epoch =  180, loss = 1.2755)\n",
            "Saving model (epoch =  181, loss = 1.2747)\n",
            "Saving model (epoch =  184, loss = 1.2725)\n",
            "Saving model (epoch =  186, loss = 1.2662)\n",
            "Saving model (epoch =  187, loss = 1.2650)\n",
            "Saving model (epoch =  188, loss = 1.2634)\n",
            "Saving model (epoch =  191, loss = 1.2611)\n",
            "Saving model (epoch =  193, loss = 1.2571)\n",
            "Saving model (epoch =  194, loss = 1.2553)\n",
            "Saving model (epoch =  197, loss = 1.2524)\n",
            "Saving model (epoch =  198, loss = 1.2511)\n",
            "Saving model (epoch =  199, loss = 1.2489)\n",
            "Saving model (epoch =  201, loss = 1.2472)\n",
            "Saving model (epoch =  202, loss = 1.2457)\n",
            "Saving model (epoch =  203, loss = 1.2441)\n",
            "Saving model (epoch =  205, loss = 1.2417)\n",
            "Saving model (epoch =  209, loss = 1.2403)\n",
            "Saving model (epoch =  210, loss = 1.2370)\n",
            "Saving model (epoch =  212, loss = 1.2348)\n",
            "Saving model (epoch =  213, loss = 1.2320)\n",
            "Saving model (epoch =  217, loss = 1.2271)\n",
            "Saving model (epoch =  218, loss = 1.2259)\n",
            "Saving model (epoch =  220, loss = 1.2239)\n",
            "Saving model (epoch =  221, loss = 1.2228)\n",
            "Saving model (epoch =  223, loss = 1.2219)\n",
            "Saving model (epoch =  224, loss = 1.2196)\n",
            "Saving model (epoch =  226, loss = 1.2171)\n",
            "Saving model (epoch =  229, loss = 1.2145)\n",
            "Saving model (epoch =  231, loss = 1.2121)\n",
            "Saving model (epoch =  232, loss = 1.2108)\n",
            "Saving model (epoch =  234, loss = 1.2092)\n",
            "Saving model (epoch =  235, loss = 1.2082)\n",
            "Saving model (epoch =  237, loss = 1.2058)\n",
            "Saving model (epoch =  240, loss = 1.2044)\n",
            "Saving model (epoch =  241, loss = 1.2026)\n",
            "Saving model (epoch =  242, loss = 1.2016)\n",
            "Saving model (epoch =  243, loss = 1.2008)\n",
            "Saving model (epoch =  245, loss = 1.1992)\n",
            "Saving model (epoch =  246, loss = 1.1980)\n",
            "Saving model (epoch =  248, loss = 1.1960)\n",
            "Saving model (epoch =  252, loss = 1.1926)\n",
            "Saving model (epoch =  255, loss = 1.1910)\n",
            "Saving model (epoch =  257, loss = 1.1886)\n",
            "Saving model (epoch =  265, loss = 1.1830)\n",
            "Saving model (epoch =  266, loss = 1.1818)\n",
            "Saving model (epoch =  272, loss = 1.1787)\n",
            "Saving model (epoch =  273, loss = 1.1769)\n",
            "Saving model (epoch =  275, loss = 1.1750)\n",
            "Saving model (epoch =  279, loss = 1.1729)\n",
            "Saving model (epoch =  281, loss = 1.1701)\n",
            "Saving model (epoch =  283, loss = 1.1686)\n",
            "Saving model (epoch =  285, loss = 1.1681)\n",
            "Saving model (epoch =  290, loss = 1.1638)\n",
            "Saving model (epoch =  291, loss = 1.1636)\n",
            "Saving model (epoch =  292, loss = 1.1630)\n",
            "Saving model (epoch =  293, loss = 1.1628)\n",
            "Saving model (epoch =  295, loss = 1.1620)\n",
            "Saving model (epoch =  296, loss = 1.1601)\n",
            "Saving model (epoch =  297, loss = 1.1597)\n",
            "Saving model (epoch =  298, loss = 1.1590)\n",
            "Saving model (epoch =  299, loss = 1.1587)\n",
            "Saving model (epoch =  300, loss = 1.1577)\n",
            "Saving model (epoch =  302, loss = 1.1576)\n",
            "Saving model (epoch =  304, loss = 1.1557)\n",
            "Saving model (epoch =  305, loss = 1.1550)\n",
            "Saving model (epoch =  312, loss = 1.1535)\n",
            "Saving model (epoch =  313, loss = 1.1524)\n",
            "Saving model (epoch =  316, loss = 1.1515)\n",
            "Saving model (epoch =  317, loss = 1.1504)\n",
            "Saving model (epoch =  318, loss = 1.1502)\n",
            "Saving model (epoch =  320, loss = 1.1488)\n",
            "Saving model (epoch =  321, loss = 1.1478)\n",
            "Saving model (epoch =  323, loss = 1.1459)\n",
            "Saving model (epoch =  327, loss = 1.1441)\n",
            "Saving model (epoch =  331, loss = 1.1419)\n",
            "Saving model (epoch =  340, loss = 1.1404)\n",
            "Saving model (epoch =  342, loss = 1.1376)\n",
            "Saving model (epoch =  344, loss = 1.1365)\n",
            "Saving model (epoch =  346, loss = 1.1361)\n",
            "Saving model (epoch =  347, loss = 1.1360)\n",
            "Saving model (epoch =  349, loss = 1.1357)\n",
            "Saving model (epoch =  351, loss = 1.1344)\n",
            "Saving model (epoch =  353, loss = 1.1341)\n",
            "Saving model (epoch =  358, loss = 1.1314)\n",
            "Saving model (epoch =  361, loss = 1.1309)\n",
            "Saving model (epoch =  362, loss = 1.1300)\n",
            "Saving model (epoch =  364, loss = 1.1299)\n",
            "Saving model (epoch =  367, loss = 1.1293)\n",
            "Saving model (epoch =  370, loss = 1.1290)\n",
            "Saving model (epoch =  372, loss = 1.1279)\n",
            "Saving model (epoch =  373, loss = 1.1264)\n",
            "Saving model (epoch =  375, loss = 1.1263)\n",
            "Saving model (epoch =  376, loss = 1.1255)\n",
            "Saving model (epoch =  384, loss = 1.1237)\n",
            "Saving model (epoch =  385, loss = 1.1230)\n",
            "Saving model (epoch =  388, loss = 1.1222)\n",
            "Saving model (epoch =  393, loss = 1.1216)\n",
            "Saving model (epoch =  399, loss = 1.1190)\n",
            "Saving model (epoch =  402, loss = 1.1190)\n",
            "Saving model (epoch =  403, loss = 1.1182)\n",
            "Saving model (epoch =  411, loss = 1.1166)\n",
            "Saving model (epoch =  416, loss = 1.1157)\n",
            "Saving model (epoch =  421, loss = 1.1150)\n",
            "Saving model (epoch =  422, loss = 1.1139)\n",
            "Saving model (epoch =  428, loss = 1.1129)\n",
            "Saving model (epoch =  431, loss = 1.1121)\n",
            "Saving model (epoch =  435, loss = 1.1118)\n",
            "Saving model (epoch =  439, loss = 1.1109)\n",
            "Saving model (epoch =  441, loss = 1.1103)\n",
            "Saving model (epoch =  446, loss = 1.1102)\n",
            "Saving model (epoch =  448, loss = 1.1101)\n",
            "Saving model (epoch =  453, loss = 1.1083)\n",
            "Saving model (epoch =  462, loss = 1.1079)\n",
            "Saving model (epoch =  463, loss = 1.1077)\n",
            "Saving model (epoch =  469, loss = 1.1065)\n",
            "Saving model (epoch =  472, loss = 1.1063)\n",
            "Saving model (epoch =  473, loss = 1.1061)\n",
            "Saving model (epoch =  474, loss = 1.1057)\n",
            "Saving model (epoch =  482, loss = 1.1049)\n",
            "Saving model (epoch =  487, loss = 1.1043)\n",
            "Saving model (epoch =  492, loss = 1.1038)\n",
            "Saving model (epoch =  497, loss = 1.1035)\n",
            "Saving model (epoch =  501, loss = 1.1034)\n",
            "Saving model (epoch =  506, loss = 1.1029)\n",
            "Saving model (epoch =  514, loss = 1.1027)\n",
            "Saving model (epoch =  520, loss = 1.1015)\n",
            "Saving model (epoch =  525, loss = 1.1012)\n",
            "Saving model (epoch =  536, loss = 1.1007)\n",
            "Saving model (epoch =  543, loss = 1.1001)\n",
            "Saving model (epoch =  545, loss = 1.0999)\n",
            "Saving model (epoch =  552, loss = 1.0999)\n",
            "Saving model (epoch =  554, loss = 1.0992)\n",
            "Saving model (epoch =  558, loss = 1.0989)\n",
            "Saving model (epoch =  561, loss = 1.0987)\n",
            "Saving model (epoch =  571, loss = 1.0986)\n",
            "Saving model (epoch =  583, loss = 1.0978)\n",
            "Saving model (epoch =  586, loss = 1.0975)\n",
            "Saving model (epoch =  588, loss = 1.0972)\n",
            "Saving model (epoch =  598, loss = 1.0965)\n",
            "Saving model (epoch =  599, loss = 1.0963)\n",
            "Saving model (epoch =  604, loss = 1.0960)\n",
            "Saving model (epoch =  607, loss = 1.0958)\n",
            "Saving model (epoch =  614, loss = 1.0955)\n",
            "Saving model (epoch =  618, loss = 1.0952)\n",
            "Saving model (epoch =  636, loss = 1.0946)\n",
            "Saving model (epoch =  639, loss = 1.0946)\n",
            "Saving model (epoch =  649, loss = 1.0939)\n",
            "Saving model (epoch =  662, loss = 1.0930)\n",
            "Saving model (epoch =  696, loss = 1.0923)\n",
            "Saving model (epoch =  703, loss = 1.0921)\n",
            "Saving model (epoch =  704, loss = 1.0920)\n",
            "Saving model (epoch =  706, loss = 1.0917)\n",
            "Saving model (epoch =  716, loss = 1.0913)\n",
            "Saving model (epoch =  717, loss = 1.0911)\n",
            "Saving model (epoch =  731, loss = 1.0911)\n",
            "Saving model (epoch =  738, loss = 1.0905)\n",
            "Saving model (epoch =  752, loss = 1.0902)\n",
            "Saving model (epoch =  762, loss = 1.0897)\n",
            "Saving model (epoch =  766, loss = 1.0897)\n",
            "Saving model (epoch =  769, loss = 1.0897)\n",
            "Saving model (epoch =  775, loss = 1.0894)\n",
            "Saving model (epoch =  787, loss = 1.0894)\n",
            "Saving model (epoch =  796, loss = 1.0891)\n",
            "Saving model (epoch =  798, loss = 1.0889)\n",
            "Saving model (epoch =  805, loss = 1.0886)\n",
            "Saving model (epoch =  815, loss = 1.0885)\n",
            "Saving model (epoch =  831, loss = 1.0881)\n",
            "Saving model (epoch =  843, loss = 1.0872)\n",
            "Saving model (epoch =  845, loss = 1.0871)\n",
            "Saving model (epoch =  858, loss = 1.0871)\n",
            "Saving model (epoch =  862, loss = 1.0870)\n",
            "Saving model (epoch =  871, loss = 1.0870)\n",
            "Saving model (epoch =  872, loss = 1.0868)\n",
            "Saving model (epoch =  877, loss = 1.0866)\n",
            "Saving model (epoch =  879, loss = 1.0865)\n",
            "Saving model (epoch =  887, loss = 1.0862)\n",
            "Saving model (epoch =  888, loss = 1.0862)\n",
            "Saving model (epoch =  891, loss = 1.0859)\n",
            "Saving model (epoch =  911, loss = 1.0855)\n",
            "Saving model (epoch =  935, loss = 1.0852)\n",
            "Saving model (epoch =  940, loss = 1.0851)\n",
            "Saving model (epoch =  949, loss = 1.0848)\n",
            "Saving model (epoch =  959, loss = 1.0847)\n",
            "Saving model (epoch =  978, loss = 1.0845)\n",
            "Saving model (epoch =  987, loss = 1.0844)\n",
            "Saving model (epoch = 1009, loss = 1.0834)\n",
            "Saving model (epoch = 1022, loss = 1.0834)\n",
            "Saving model (epoch = 1035, loss = 1.0831)\n",
            "Saving model (epoch = 1037, loss = 1.0831)\n",
            "Saving model (epoch = 1049, loss = 1.0827)\n",
            "Saving model (epoch = 1056, loss = 1.0826)\n",
            "Saving model (epoch = 1058, loss = 1.0825)\n",
            "Saving model (epoch = 1068, loss = 1.0821)\n",
            "Saving model (epoch = 1076, loss = 1.0820)\n",
            "Saving model (epoch = 1082, loss = 1.0820)\n",
            "Saving model (epoch = 1085, loss = 1.0817)\n",
            "Saving model (epoch = 1108, loss = 1.0817)\n",
            "Saving model (epoch = 1117, loss = 1.0814)\n",
            "Saving model (epoch = 1141, loss = 1.0809)\n",
            "Saving model (epoch = 1154, loss = 1.0806)\n",
            "Saving model (epoch = 1163, loss = 1.0806)\n",
            "Saving model (epoch = 1174, loss = 1.0804)\n",
            "Saving model (epoch = 1195, loss = 1.0802)\n",
            "Saving model (epoch = 1200, loss = 1.0800)\n",
            "Saving model (epoch = 1211, loss = 1.0800)\n",
            "Saving model (epoch = 1213, loss = 1.0799)\n",
            "Saving model (epoch = 1221, loss = 1.0797)\n",
            "Saving model (epoch = 1245, loss = 1.0795)\n",
            "Saving model (epoch = 1251, loss = 1.0795)\n",
            "Saving model (epoch = 1253, loss = 1.0791)\n",
            "Saving model (epoch = 1265, loss = 1.0789)\n",
            "Saving model (epoch = 1269, loss = 1.0787)\n",
            "Saving model (epoch = 1298, loss = 1.0786)\n",
            "Saving model (epoch = 1317, loss = 1.0784)\n",
            "Saving model (epoch = 1330, loss = 1.0784)\n",
            "Saving model (epoch = 1332, loss = 1.0782)\n",
            "Saving model (epoch = 1348, loss = 1.0779)\n",
            "Saving model (epoch = 1352, loss = 1.0778)\n",
            "Saving model (epoch = 1354, loss = 1.0777)\n",
            "Saving model (epoch = 1365, loss = 1.0777)\n",
            "Saving model (epoch = 1373, loss = 1.0776)\n",
            "Saving model (epoch = 1387, loss = 1.0773)\n",
            "Saving model (epoch = 1397, loss = 1.0772)\n",
            "Saving model (epoch = 1408, loss = 1.0772)\n",
            "Saving model (epoch = 1419, loss = 1.0766)\n",
            "Saving model (epoch = 1458, loss = 1.0766)\n",
            "Saving model (epoch = 1462, loss = 1.0765)\n",
            "Saving model (epoch = 1470, loss = 1.0763)\n",
            "Saving model (epoch = 1474, loss = 1.0761)\n",
            "Saving model (epoch = 1497, loss = 1.0761)\n",
            "Saving model (epoch = 1505, loss = 1.0759)\n",
            "Saving model (epoch = 1507, loss = 1.0759)\n",
            "Saving model (epoch = 1510, loss = 1.0757)\n",
            "Saving model (epoch = 1514, loss = 1.0757)\n",
            "Saving model (epoch = 1523, loss = 1.0755)\n",
            "Saving model (epoch = 1533, loss = 1.0754)\n",
            "Saving model (epoch = 1537, loss = 1.0754)\n",
            "Saving model (epoch = 1550, loss = 1.0753)\n",
            "Saving model (epoch = 1567, loss = 1.0751)\n",
            "Saving model (epoch = 1605, loss = 1.0750)\n",
            "Saving model (epoch = 1607, loss = 1.0750)\n",
            "Saving model (epoch = 1617, loss = 1.0749)\n",
            "Saving model (epoch = 1629, loss = 1.0745)\n",
            "Saving model (epoch = 1631, loss = 1.0744)\n",
            "Saving model (epoch = 1671, loss = 1.0743)\n",
            "Saving model (epoch = 1683, loss = 1.0740)\n",
            "Saving model (epoch = 1693, loss = 1.0739)\n",
            "Saving model (epoch = 1704, loss = 1.0739)\n",
            "Saving model (epoch = 1708, loss = 1.0739)\n",
            "Saving model (epoch = 1713, loss = 1.0738)\n",
            "Saving model (epoch = 1717, loss = 1.0738)\n",
            "Saving model (epoch = 1731, loss = 1.0738)\n",
            "Saving model (epoch = 1748, loss = 1.0733)\n",
            "Saving model (epoch = 1776, loss = 1.0732)\n",
            "Saving model (epoch = 1805, loss = 1.0728)\n",
            "Saving model (epoch = 1810, loss = 1.0728)\n",
            "Saving model (epoch = 1811, loss = 1.0725)\n",
            "Saving model (epoch = 1831, loss = 1.0724)\n",
            "Saving model (epoch = 1835, loss = 1.0724)\n",
            "Saving model (epoch = 1862, loss = 1.0724)\n",
            "Saving model (epoch = 1876, loss = 1.0723)\n",
            "Saving model (epoch = 1888, loss = 1.0721)\n",
            "Saving model (epoch = 1889, loss = 1.0718)\n",
            "Saving model (epoch = 1892, loss = 1.0717)\n",
            "Saving model (epoch = 1902, loss = 1.0711)\n",
            "Saving model (epoch = 1917, loss = 1.0709)\n",
            "Saving model (epoch = 1920, loss = 1.0706)\n",
            "Saving model (epoch = 1929, loss = 1.0705)\n",
            "Saving model (epoch = 1935, loss = 1.0704)\n",
            "Saving model (epoch = 1969, loss = 1.0701)\n",
            "Saving model (epoch = 1978, loss = 1.0698)\n",
            "Saving model (epoch = 2005, loss = 1.0697)\n",
            "Saving model (epoch = 2007, loss = 1.0697)\n",
            "Saving model (epoch = 2018, loss = 1.0695)\n",
            "Saving model (epoch = 2027, loss = 1.0694)\n",
            "Saving model (epoch = 2063, loss = 1.0694)\n",
            "Saving model (epoch = 2070, loss = 1.0689)\n",
            "Saving model (epoch = 2120, loss = 1.0688)\n",
            "Saving model (epoch = 2121, loss = 1.0688)\n",
            "Saving model (epoch = 2135, loss = 1.0687)\n",
            "Saving model (epoch = 2145, loss = 1.0687)\n",
            "Saving model (epoch = 2151, loss = 1.0685)\n",
            "Saving model (epoch = 2154, loss = 1.0684)\n",
            "Saving model (epoch = 2196, loss = 1.0683)\n",
            "Saving model (epoch = 2214, loss = 1.0683)\n",
            "Saving model (epoch = 2254, loss = 1.0682)\n",
            "Saving model (epoch = 2256, loss = 1.0680)\n",
            "Saving model (epoch = 2261, loss = 1.0679)\n",
            "Saving model (epoch = 2304, loss = 1.0677)\n",
            "Saving model (epoch = 2323, loss = 1.0675)\n",
            "Saving model (epoch = 2324, loss = 1.0674)\n",
            "Saving model (epoch = 2358, loss = 1.0672)\n",
            "Saving model (epoch = 2424, loss = 1.0669)\n",
            "Saving model (epoch = 2451, loss = 1.0667)\n",
            "Saving model (epoch = 2462, loss = 1.0667)\n",
            "Saving model (epoch = 2499, loss = 1.0667)\n",
            "Saving model (epoch = 2519, loss = 1.0665)\n",
            "Saving model (epoch = 2527, loss = 1.0663)\n",
            "Saving model (epoch = 2571, loss = 1.0662)\n",
            "Saving model (epoch = 2574, loss = 1.0662)\n",
            "Saving model (epoch = 2612, loss = 1.0661)\n",
            "Saving model (epoch = 2640, loss = 1.0661)\n",
            "Saving model (epoch = 2649, loss = 1.0660)\n",
            "Saving model (epoch = 2650, loss = 1.0659)\n",
            "Saving model (epoch = 2689, loss = 1.0658)\n",
            "Saving model (epoch = 2697, loss = 1.0656)\n",
            "Saving model (epoch = 2762, loss = 1.0655)\n",
            "Saving model (epoch = 2798, loss = 1.0654)\n",
            "Saving model (epoch = 2811, loss = 1.0650)\n",
            "Saving model (epoch = 2867, loss = 1.0649)\n",
            "Saving model (epoch = 2905, loss = 1.0649)\n",
            "Saving model (epoch = 2917, loss = 1.0648)\n",
            "Saving model (epoch = 2984, loss = 1.0646)\n",
            "Saving model (epoch = 2994, loss = 1.0646)\n",
            "Saving model (epoch = 3033, loss = 1.0645)\n",
            "Saving model (epoch = 3052, loss = 1.0643)\n",
            "Saving model (epoch = 3054, loss = 1.0641)\n",
            "Saving model (epoch = 3099, loss = 1.0641)\n",
            "Saving model (epoch = 3155, loss = 1.0640)\n",
            "Saving model (epoch = 3171, loss = 1.0639)\n",
            "Saving model (epoch = 3207, loss = 1.0637)\n",
            "Saving model (epoch = 3292, loss = 1.0636)\n",
            "Saving model (epoch = 3307, loss = 1.0636)\n",
            "Saving model (epoch = 3340, loss = 1.0635)\n",
            "Saving model (epoch = 3353, loss = 1.0634)\n",
            "Saving model (epoch = 3354, loss = 1.0632)\n",
            "Saving model (epoch = 3400, loss = 1.0632)\n",
            "Saving model (epoch = 3459, loss = 1.0632)\n",
            "Saving model (epoch = 3487, loss = 1.0630)\n",
            "Saving model (epoch = 3499, loss = 1.0629)\n",
            "Saving model (epoch = 3524, loss = 1.0628)\n",
            "Saving model (epoch = 3584, loss = 1.0627)\n",
            "Saving model (epoch = 3598, loss = 1.0626)\n",
            "Saving model (epoch = 3681, loss = 1.0625)\n",
            "Saving model (epoch = 3693, loss = 1.0624)\n",
            "Saving model (epoch = 3770, loss = 1.0622)\n",
            "Saving model (epoch = 3816, loss = 1.0622)\n",
            "Saving model (epoch = 3824, loss = 1.0621)\n",
            "Saving model (epoch = 3857, loss = 1.0620)\n",
            "Saving model (epoch = 3904, loss = 1.0619)\n",
            "Saving model (epoch = 3910, loss = 1.0616)\n",
            "Saving model (epoch = 3954, loss = 1.0616)\n",
            "Saving model (epoch = 4000, loss = 1.0616)\n",
            "Saving model (epoch = 4016, loss = 1.0615)\n",
            "Saving model (epoch = 4018, loss = 1.0615)\n",
            "Saving model (epoch = 4071, loss = 1.0615)\n",
            "Saving model (epoch = 4084, loss = 1.0614)\n",
            "Saving model (epoch = 4113, loss = 1.0613)\n",
            "Saving model (epoch = 4255, loss = 1.0611)\n",
            "Saving model (epoch = 4286, loss = 1.0611)\n",
            "Saving model (epoch = 4288, loss = 1.0610)\n",
            "Saving model (epoch = 4348, loss = 1.0610)\n",
            "Saving model (epoch = 4407, loss = 1.0610)\n",
            "Saving model (epoch = 4424, loss = 1.0610)\n",
            "Saving model (epoch = 4425, loss = 1.0608)\n",
            "Saving model (epoch = 4479, loss = 1.0607)\n",
            "Saving model (epoch = 4584, loss = 1.0607)\n",
            "Saving model (epoch = 4597, loss = 1.0605)\n",
            "Saving model (epoch = 4621, loss = 1.0603)\n",
            "Saving model (epoch = 4647, loss = 1.0602)\n",
            "Saving model (epoch = 4794, loss = 1.0602)\n",
            "Saving model (epoch = 4803, loss = 1.0601)\n",
            "Saving model (epoch = 4860, loss = 1.0601)\n",
            "Saving model (epoch = 4936, loss = 1.0600)\n",
            "Saving model (epoch = 4955, loss = 1.0600)\n",
            "Saving model (epoch = 4971, loss = 1.0599)\n",
            "Saving model (epoch = 4974, loss = 1.0598)\n",
            "Saving model (epoch = 4992, loss = 1.0596)\n",
            "Saving model (epoch = 5177, loss = 1.0596)\n",
            "Saving model (epoch = 5180, loss = 1.0596)\n",
            "Saving model (epoch = 5237, loss = 1.0594)\n",
            "Finished training after 5438 epochs\n"
          ],
          "name": "stdout"
        }
      ]
    },
    {
      "cell_type": "code",
      "metadata": {
        "colab": {
          "base_uri": "https://localhost:8080/",
          "height": 295
        },
        "id": "hsNO9nnXQBvP",
        "outputId": "bf8ddd7c-197a-4624-a643-ffb32abbe523"
      },
      "source": [
        "plot_learning_curve(model_loss_record, title='deep model')"
      ],
      "execution_count": 30,
      "outputs": [
        {
          "output_type": "display_data",
          "data": {
            "image/png": "[encoded data removed]",
            "text/plain": [
              "<Figure size 432x288 with 1 Axes>"
            ]
          },
          "metadata": {
            "tags": [],
            "needs_background": "light"
          }
        }
      ]
    },
    {
      "cell_type": "code",
      "metadata": {
        "colab": {
          "base_uri": "https://localhost:8080/",
          "height": 350
        },
        "id": "3iZTVn5WQFpX",
        "outputId": "74cb0c99-e6c4-4e63-fc84-cd62ab56da23"
      },
      "source": [
        "del model\n",
        "model = NeuralNet(tr_set.dataset.dim).to(device)\n",
        "ckpt = torch.load(config['save_path'], map_location='cpu')  # Load your best model\n",
        "model.load_state_dict(ckpt)\n",
        "plot_pred(dv_set, model, device)  # Show prediction on the validation set"
      ],
      "execution_count": 31,
      "outputs": [
        {
          "output_type": "display_data",
          "data": {
            "image/png": "[encoded data removed]",
            "text/plain": [
              "<Figure size 360x360 with 1 Axes>"
            ]
          },
          "metadata": {
            "tags": [],
            "needs_background": "light"
          }
        }
      ]
    },
    {
      "cell_type": "markdown",
      "metadata": {
        "id": "aQikz3IPiyPf"
      },
      "source": [
        "# **Testing**\n",
        "The predictions of your model on testing set will be stored at `pred.csv`."
      ]
    },
    {
      "cell_type": "code",
      "metadata": {
        "colab": {
          "base_uri": "https://localhost:8080/"
        },
        "id": "O8cTuQjQQOon",
        "outputId": "44923e48-78a0-4276-843c-cd5f7bb3bc08"
      },
      "source": [
        "def save_pred(preds, file):\n",
        "    ''' Save predictions to specified file '''\n",
        "    print('Saving results to {}'.format(file))\n",
        "    with open(file, 'w') as fp:\n",
        "        writer = csv.writer(fp)\n",
        "        writer.writerow(['id', 'tested_positive'])\n",
        "        for i, p in enumerate(preds):\n",
        "            writer.writerow([i, p])\n",
        "\n",
        "preds = test(tt_set, model, device)  # predict COVID-19 cases with your model\n",
        "save_pred(preds, 'pred.csv')         # save prediction file to pred.csv"
      ],
      "execution_count": 32,
      "outputs": [
        {
          "output_type": "stream",
          "text": [
            "Saving results to pred.csv\n"
          ],
          "name": "stdout"
        }
      ]
    },
    {
      "cell_type": "markdown",
      "metadata": {
        "id": "nfrVxqJanGpE"
      },
      "source": [
        "# **Hints**\n",
        "\n",
        "## **Simple Baseline**\n",
        "* Run sample code\n",
        "\n",
        "## **Medium Baseline**\n",
        "* Feature selection: 40 states + 2 `tested_positive` (`TODO` in dataset)\n",
        "\n",
        "## **Strong Baseline**\n",
        "* Feature selection (what other features are useful?)\n",
        "* DNN architecture (layers? dimension? activation function?)\n",
        "* Training (mini-batch? optimizer? learning rate?)\n",
        "* L2 regularization\n",
        "* There are some mistakes in the sample code, can you find them?"
      ]
    },
    {
      "cell_type": "markdown",
      "metadata": {
        "id": "9tmCwXgpot3t"
      },
      "source": [
        "# **Reference**\n",
        "This code is completely written by Heng-Jui Chang @ NTUEE.  \n",
        "Copying or reusing this code is required to specify the original author. \n",
        "\n",
        "E.g.  \n",
        "Source: Heng-Jui Chang @ NTUEE (https://github.com/ga642381/ML2021-Spring/blob/main/HW01/HW01.ipynb)\n"
      ]
    }
  ]
}