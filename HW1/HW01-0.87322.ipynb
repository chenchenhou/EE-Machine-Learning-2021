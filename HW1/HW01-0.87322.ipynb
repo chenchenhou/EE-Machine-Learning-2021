{
  "nbformat": 4,
  "nbformat_minor": 0,
  "metadata": {
    "colab": {
      "name": "HW01.ipynb",
      "provenance": [],
      "collapsed_sections": [],
      "toc_visible": true
    },
    "kernelspec": {
      "name": "python3",
      "display_name": "Python 3"
    },
    "accelerator": "GPU"
  },
  "cells": [
    {
      "cell_type": "markdown",
      "metadata": {
        "id": "view-in-github"
      },
      "source": [
        "<a href=\"https://colab.research.google.com/github/ga642381/ML2021-Spring/blob/main/HW01/HW01.ipynb\" target=\"_parent\"><img src=\"https://colab.research.google.com/assets/colab-badge.svg\" alt=\"Open In Colab\"/></a>"
      ]
    },
    {
      "cell_type": "markdown",
      "metadata": {
        "id": "mz0_QVkxCrX3"
      },
      "source": [
        "# **Homework 1: COVID-19 Cases Prediction (Regression)**"
      ]
    },
    {
      "cell_type": "markdown",
      "metadata": {
        "id": "ZeZnPAiwDRWG"
      },
      "source": [
        "Author: Heng-Jui Chang\n",
        "\n",
        "Slides: https://github.com/ga642381/ML2021-Spring/blob/main/HW01/HW01.pdf  \n",
        "Video: TBA\n",
        "\n",
        "Objectives:\n",
        "* Solve a regression problem with deep neural networks (DNN).\n",
        "* Understand basic DNN training tips.\n",
        "* Get familiar with PyTorch.\n",
        "\n",
        "If any questions, please contact the TAs via TA hours, NTU COOL, or email.\n"
      ]
    },
    {
      "cell_type": "markdown",
      "metadata": {
        "id": "Jx3x1nDkG-Uy"
      },
      "source": [
        "# **Download Data**\n",
        "\n",
        "\n",
        "If the Google drive links are dead, you can download data from [kaggle](https://www.kaggle.com/c/ml2021spring-hw1/data), and upload data manually to the workspace."
      ]
    },
    {
      "cell_type": "code",
      "metadata": {
        "colab": {
          "base_uri": "https://localhost:8080/"
        },
        "id": "tMj55YDKG6ch",
        "outputId": "ca2a22fd-c51c-4af8-891e-d80156d5c46b"
      },
      "source": [
        "tr_path = 'covid.train.csv'  # path to training data\n",
        "tt_path = 'covid.test.csv'   # path to testing data\n",
        "\n",
        "!gdown --id '19CCyCgJrUxtvgZF53vnctJiOJ23T5mqF' --output covid.train.csv\n",
        "!gdown --id '1CE240jLm2npU-tdz81-oVKEF3T2yfT1O' --output covid.test.csv"
      ],
      "execution_count": 9,
      "outputs": [
        {
          "output_type": "stream",
          "text": [
            "Downloading...\n",
            "From: https://drive.google.com/uc?id=19CCyCgJrUxtvgZF53vnctJiOJ23T5mqF\n",
            "To: /content/covid.train.csv\n",
            "100% 2.00M/2.00M [00:00<00:00, 133MB/s]\n",
            "Downloading...\n",
            "From: https://drive.google.com/uc?id=1CE240jLm2npU-tdz81-oVKEF3T2yfT1O\n",
            "To: /content/covid.test.csv\n",
            "100% 651k/651k [00:00<00:00, 93.9MB/s]\n"
          ],
          "name": "stdout"
        }
      ]
    },
    {
      "cell_type": "markdown",
      "metadata": {
        "id": "wS_4-77xHk44"
      },
      "source": [
        "# **Import Some Packages**"
      ]
    },
    {
      "cell_type": "code",
      "metadata": {
        "id": "k-onQd4JNA5H"
      },
      "source": [
        "# PyTorch\n",
        "import torch\n",
        "import torch.nn as nn\n",
        "from torch.utils.data import Dataset, DataLoader\n",
        "\n",
        "# For data preprocess\n",
        "import numpy as np\n",
        "import csv\n",
        "import os\n",
        "\n",
        "# For plotting\n",
        "import matplotlib.pyplot as plt\n",
        "from matplotlib.pyplot import figure\n",
        "\n",
        "myseed = 42069  # set a random seed for reproducibility\n",
        "torch.backends.cudnn.deterministic = True\n",
        "torch.backends.cudnn.benchmark = False\n",
        "np.random.seed(myseed)\n",
        "torch.manual_seed(myseed)\n",
        "if torch.cuda.is_available():\n",
        "    torch.cuda.manual_seed_all(myseed)"
      ],
      "execution_count": 10,
      "outputs": []
    },
    {
      "cell_type": "markdown",
      "metadata": {
        "id": "BtE3b6JEH7rw"
      },
      "source": [
        "# **Some Utilities**\n",
        "\n",
        "You do not need to modify this part."
      ]
    },
    {
      "cell_type": "code",
      "metadata": {
        "id": "FWMT3uf1NGQp"
      },
      "source": [
        "def get_device():\n",
        "    ''' Get device (if GPU is available, use GPU) '''\n",
        "    return 'cuda' if torch.cuda.is_available() else 'cpu'\n",
        "\n",
        "def plot_learning_curve(loss_record, title=''):\n",
        "    ''' Plot learning curve of your DNN (train & dev loss) '''\n",
        "    total_steps = len(loss_record['train'])\n",
        "    x_1 = range(total_steps)\n",
        "    x_2 = x_1[::len(loss_record['train']) // len(loss_record['dev'])]\n",
        "    figure(figsize=(6, 4))\n",
        "    plt.plot(x_1, loss_record['train'], c='tab:red', label='train')\n",
        "    plt.plot(x_2, loss_record['dev'], c='tab:cyan', label='dev')\n",
        "    plt.ylim(0.0, 5.)\n",
        "    plt.xlabel('Training steps')\n",
        "    plt.ylabel('MSE loss')\n",
        "    plt.title('Learning curve of {}'.format(title))\n",
        "    plt.legend()\n",
        "    plt.show()\n",
        "\n",
        "\n",
        "def plot_pred(dv_set, model, device, lim=35., preds=None, targets=None):\n",
        "    ''' Plot prediction of your DNN '''\n",
        "    if preds is None or targets is None:\n",
        "        model.eval()\n",
        "        preds, targets = [], []\n",
        "        for x, y in dv_set:\n",
        "            x, y = x.to(device), y.to(device)\n",
        "            with torch.no_grad():\n",
        "                pred = model(x)\n",
        "                preds.append(pred.detach().cpu())\n",
        "                targets.append(y.detach().cpu())\n",
        "        preds = torch.cat(preds, dim=0).numpy()\n",
        "        targets = torch.cat(targets, dim=0).numpy()\n",
        "\n",
        "    figure(figsize=(5, 5))\n",
        "    plt.scatter(targets, preds, c='r', alpha=0.5)\n",
        "    plt.plot([-0.2, lim], [-0.2, lim], c='b')\n",
        "    plt.xlim(-0.2, lim)\n",
        "    plt.ylim(-0.2, lim)\n",
        "    plt.xlabel('ground truth value')\n",
        "    plt.ylabel('predicted value')\n",
        "    plt.title('Ground Truth v.s. Prediction')\n",
        "    plt.show()"
      ],
      "execution_count": 11,
      "outputs": []
    },
    {
      "cell_type": "markdown",
      "metadata": {
        "id": "39U_XFX6KOoj"
      },
      "source": [
        "# **Preprocess**\n",
        "\n",
        "We have three kinds of datasets:\n",
        "* `train`: for training\n",
        "* `dev`: for validation\n",
        "* `test`: for testing (w/o target value)"
      ]
    },
    {
      "cell_type": "markdown",
      "metadata": {
        "id": "TQ-MdwpLL7Dt"
      },
      "source": [
        "## **Dataset**\n",
        "\n",
        "The `COVID19Dataset` below does:\n",
        "* read `.csv` files\n",
        "* extract features\n",
        "* split `covid.train.csv` into train/dev sets\n",
        "* normalize features\n",
        "\n",
        "Finishing `TODO` below might make you pass medium baseline."
      ]
    },
    {
      "cell_type": "code",
      "metadata": {
        "id": "0zlpIp9ANJRU"
      },
      "source": [
        "class COVID19Dataset(Dataset):\n",
        "    ''' Dataset for loading and preprocessing the COVID19 dataset '''\n",
        "    def __init__(self,\n",
        "                 path,\n",
        "                 mode='train',\n",
        "                 target_only=False):\n",
        "        self.mode = mode\n",
        "\n",
        "        # Read data into numpy arrays\n",
        "        with open(path, 'r') as fp:\n",
        "            data = list(csv.reader(fp))\n",
        "            data = np.array(data[1:])[:, 1:].astype(float)\n",
        "        \n",
        "        if not target_only:\n",
        "            feats = list(range(93))\n",
        "        else:\n",
        "            # TODO: Using 40 states & 2 tested_positive features (indices = 57 & 75)\n",
        "            feats = list(range(40)) + [40, 41, 42, 43, 57, 58, 59, 60, 61, 75, 76, 77, 78, 79]\n",
        "            pass\n",
        "        '''\n",
        "        else:\n",
        "            # TODO: Using 40 states & 2 tested_positive features (indices = 57 & 75)\n",
        "            feats = [40, 41, 42, 43, 57,\\\n",
        "                     58, 59, 60, 61, 75,\\\n",
        "                     76, 77, 78, 79]\n",
        "            pass\n",
        "        '''\n",
        "\n",
        "        if mode == 'test':\n",
        "            # Testing data\n",
        "            # data: 893 x 93 (40 states + day 1 (18) + day 2 (18) + day 3 (17))\n",
        "            data = data[:, feats]\n",
        "            self.data = torch.FloatTensor(data)\n",
        "        else:\n",
        "            # Training data (train/dev sets)\n",
        "            # data: 2700 x 94 (40 states + day 1 (18) + day 2 (18) + day 3 (18))\n",
        "            target = data[:, -1]\n",
        "            data = data[:, feats]\n",
        "            \n",
        "            # Splitting training data into train & dev sets\n",
        "            if mode == 'train':\n",
        "                indices = [i for i in range(len(data)) if i % 10 != 1]\n",
        "            elif mode == 'dev':\n",
        "                indices = [i for i in range(len(data)) if i % 10 == 1]\n",
        "            \n",
        "            # Convert data into PyTorch tensors\n",
        "            self.data = torch.FloatTensor(data[indices])\n",
        "            self.target = torch.FloatTensor(target[indices])\n",
        "\n",
        "        # Normalize features (you may remove this part to see what will happen)\n",
        "\n",
        "       # self.data[:, :] = \\\n",
        "       #     (self.data[:, :] - self.data[:, :].mean(dim=0, keepdim=True)) \\\n",
        "       #     / self.data[:, :].std(dim=0, keepdim=True)\n",
        "\n",
        "        self.dim = self.data.shape[1]\n",
        "\n",
        "        print('Finished reading the {} set of COVID19 Dataset ({} samples found, each dim = {})'\n",
        "              .format(mode, len(self.data), self.dim))\n",
        "\n",
        "    def __getitem__(self, index):\n",
        "        # Returns one sample at a time\n",
        "        if self.mode in ['train', 'dev']:\n",
        "            # For training\n",
        "            return self.data[index], self.target[index]\n",
        "        else:\n",
        "            # For testing (no target)\n",
        "            return self.data[index]\n",
        "\n",
        "    def __len__(self):\n",
        "        # Returns the size of the dataset\n",
        "        return len(self.data)"
      ],
      "execution_count": 12,
      "outputs": []
    },
    {
      "cell_type": "markdown",
      "metadata": {
        "id": "AlhTlkE7MDo3"
      },
      "source": [
        "## **DataLoader**\n",
        "\n",
        "A `DataLoader` loads data from a given `Dataset` into batches.\n"
      ]
    },
    {
      "cell_type": "code",
      "metadata": {
        "id": "hlhLk5t6MBX3"
      },
      "source": [
        "def prep_dataloader(path, mode, batch_size, n_jobs=0, target_only=False):\n",
        "    ''' Generates a dataset, then is put into a dataloader. '''\n",
        "    dataset = COVID19Dataset(path, mode=mode, target_only=target_only)  # Construct dataset\n",
        "    dataloader = DataLoader(\n",
        "        dataset, batch_size,\n",
        "        shuffle=(mode == 'train'), drop_last=False,\n",
        "        num_workers=n_jobs, pin_memory=True)                            # Construct dataloader\n",
        "    return dataloader"
      ],
      "execution_count": 13,
      "outputs": []
    },
    {
      "cell_type": "markdown",
      "metadata": {
        "id": "SGuycwR0MeQB"
      },
      "source": [
        "# **Deep Neural Network**\n",
        "\n",
        "`NeuralNet` is an `nn.Module` designed for regression.\n",
        "The DNN consists of 2 fully-connected layers with ReLU activation.\n",
        "This module also included a function `cal_loss` for calculating loss.\n"
      ]
    },
    {
      "cell_type": "code",
      "metadata": {
        "id": "49-uXYovOAI0"
      },
      "source": [
        "class NeuralNet(nn.Module):\n",
        "    ''' A simple fully-connected deep neural network '''\n",
        "    def __init__(self, input_dim):\n",
        "        super(NeuralNet, self).__init__()\n",
        "\n",
        "        # Define your neural network here\n",
        "        # TODO: How to modify this model to achieve better performance?\n",
        "        '''\n",
        "        self.net = nn.Sequential(\n",
        "            nn.Linear(input_dim, 10),\n",
        "            nn.ReLU(),\n",
        "            nn.Linear(10, 1)\n",
        "        )\n",
        "        '''\n",
        "        self.net = nn.Sequential(\n",
        "            nn.Linear(input_dim, 36),\n",
        "            nn.ReLU(),\n",
        "            nn.Linear(36, 1)\n",
        "        )\n",
        "        # Mean squared error loss\n",
        "        self.criterion = nn.MSELoss(reduction='mean')\n",
        "\n",
        "    def forward(self, x):\n",
        "        ''' Given input of size (batch_size x input_dim), compute output of the network '''\n",
        "        return self.net(x).squeeze(1)\n",
        "\n",
        "    def cal_loss(self, pred, target):\n",
        "        ''' Calculate loss '''\n",
        "        # TODO: you may implement L2 regularization here\n",
        "\n",
        "        l2_loss = self.criterion(pred, target)\n",
        "        l2_lambda = 0.00005\n",
        "        l2_reg = torch.tensor(0.).to('cuda')\n",
        "        for param in model.parameters():\n",
        "            l2_reg += torch.norm(param)\n",
        "        l2_loss += l2_lambda * l2_reg  \n",
        "\n",
        "        return l2_loss    #self.criterion(pred, target)"
      ],
      "execution_count": 14,
      "outputs": []
    },
    {
      "cell_type": "markdown",
      "metadata": {
        "id": "DvFWVjZ5Nvga"
      },
      "source": [
        "# **Train/Dev/Test**"
      ]
    },
    {
      "cell_type": "markdown",
      "metadata": {
        "id": "MAM8QecJOyqn"
      },
      "source": [
        "## **Training**"
      ]
    },
    {
      "cell_type": "code",
      "metadata": {
        "id": "lOqcmYzMO7jB"
      },
      "source": [
        "def train(tr_set, dv_set, model, config, device):\n",
        "    ''' DNN training '''\n",
        "\n",
        "    n_epochs = config['n_epochs']  # Maximum number of epochs\n",
        "\n",
        "    # Setup optimizer\n",
        "\n",
        "    optimizer = getattr(torch.optim, config['optimizer'])(\n",
        "       model.parameters(), **config['optim_hparas'])\n",
        "    \n",
        "    # optimizer = torch.optim.Adam(model.parameters(), lr = 0.0001, weight_decay = 0.00001)\n",
        "\n",
        "    min_mse = 1000.\n",
        "    loss_record = {'train': [], 'dev': []}      # for recording training loss\n",
        "    early_stop_cnt = 0\n",
        "    epoch = 0\n",
        "    while epoch < n_epochs:\n",
        "        model.train()                           # set model to training mode\n",
        "        for x, y in tr_set:                     # iterate through the dataloader\n",
        "            optimizer.zero_grad()               # set gradient to zero\n",
        "            x, y = x.to(device), y.to(device)   # move data to device (cpu/cuda)\n",
        "            pred = model(x)                     # forward pass (compute output)\n",
        "            mse_loss = model.cal_loss(pred, y)  # compute loss\n",
        "            mse_loss.backward()                 # compute gradient (backpropagation)\n",
        "            optimizer.step()                    # update model with optimizer\n",
        "            loss_record['train'].append(mse_loss.detach().cpu().item())\n",
        "\n",
        "        # After each epoch, test your model on the validation (development) set.\n",
        "        dev_mse = dev(dv_set, model, device)\n",
        "        if dev_mse < min_mse:\n",
        "            # Save model if your model improved\n",
        "            min_mse = dev_mse\n",
        "            print('Saving model (epoch = {:4d}, loss = {:.4f})'\n",
        "                .format(epoch + 1, min_mse))\n",
        "            torch.save(model.state_dict(), config['save_path'])  # Save model to specified path\n",
        "            early_stop_cnt = 0\n",
        "        else:\n",
        "            early_stop_cnt += 1\n",
        "\n",
        "        epoch += 1\n",
        "        loss_record['dev'].append(dev_mse)\n",
        "        if early_stop_cnt > config['early_stop']:\n",
        "            # Stop training if your model stops improving for \"config['early_stop']\" epochs.\n",
        "            break\n",
        "\n",
        "    print('Finished training after {} epochs'.format(epoch))\n",
        "    return min_mse, loss_record"
      ],
      "execution_count": 15,
      "outputs": []
    },
    {
      "cell_type": "markdown",
      "metadata": {
        "id": "0hSd4Bn3O2PL"
      },
      "source": [
        "## **Validation**"
      ]
    },
    {
      "cell_type": "code",
      "metadata": {
        "id": "yrxrD3YsN3U2"
      },
      "source": [
        "def dev(dv_set, model, device):\n",
        "    model.eval()                                # set model to evalutation mode\n",
        "    total_loss = 0\n",
        "    for x, y in dv_set:                         # iterate through the dataloader\n",
        "        x, y = x.to(device), y.to(device)       # move data to device (cpu/cuda)\n",
        "        with torch.no_grad():                   # disable gradient calculation\n",
        "            pred = model(x)                     # forward pass (compute output)\n",
        "            mse_loss = model.cal_loss(pred, y)  # compute loss\n",
        "        total_loss += mse_loss.detach().cpu().item() * len(x)  # accumulate loss\n",
        "    total_loss = total_loss / len(dv_set.dataset)              # compute averaged loss\n",
        "\n",
        "    return total_loss"
      ],
      "execution_count": 16,
      "outputs": []
    },
    {
      "cell_type": "markdown",
      "metadata": {
        "id": "g0pdrhQAO41L"
      },
      "source": [
        "## **Testing**"
      ]
    },
    {
      "cell_type": "code",
      "metadata": {
        "id": "aSBMRFlYN5tB"
      },
      "source": [
        "def test(tt_set, model, device):\n",
        "    model.eval()                                # set model to evalutation mode\n",
        "    preds = []\n",
        "    for x in tt_set:                            # iterate through the dataloader\n",
        "        x = x.to(device)                        # move data to device (cpu/cuda)\n",
        "        with torch.no_grad():                   # disable gradient calculation\n",
        "            pred = model(x)                     # forward pass (compute output)\n",
        "            preds.append(pred.detach().cpu())   # collect prediction\n",
        "    preds = torch.cat(preds, dim=0).numpy()     # concatenate all predictions and convert to a numpy array\n",
        "    return preds"
      ],
      "execution_count": 17,
      "outputs": []
    },
    {
      "cell_type": "markdown",
      "metadata": {
        "id": "SvckkF5dvf0j"
      },
      "source": [
        "# **Setup Hyper-parameters**\n",
        "\n",
        "`config` contains hyper-parameters for training and the path to save your model."
      ]
    },
    {
      "cell_type": "code",
      "metadata": {
        "id": "NPXpdumwPjE7"
      },
      "source": [
        "device = get_device()                 # get the current available device ('cpu' or 'cuda')\n",
        "os.makedirs('models', exist_ok=True)  # The trained model will be saved to ./models/\n",
        "target_only = True                  # TODO: Using 40 states & 2 tested_positive features\n",
        "\n",
        "# TODO: How to tune these hyper-parameters to improve your model's performance?\n",
        "config = {\n",
        "    'n_epochs': 10000,                # maximum number of epochs\n",
        "    'batch_size': 32,                # mini-batch size for dataloader\n",
        "    'optimizer': 'AdamW',            # optimization algorithm (optimizer in torch.optim)\n",
        "    'optim_hparas': {                # hyper-parameters for the optimizer (depends on which optimizer you are using)\n",
        "        'lr': 0.0001,                # learning rate of SGD\n",
        "        'weight_decay': 0.0001\n",
        "    #   'momentum': 0.9              # momentum for SGD\n",
        "    },\n",
        "    'early_stop': 200,               # early stopping epochs (the number epochs since your model's last improvement)\n",
        "    'save_path': 'models/model.pth'  # your model will be saved here\n",
        "}"
      ],
      "execution_count": 18,
      "outputs": []
    },
    {
      "cell_type": "markdown",
      "metadata": {
        "id": "6j1eOV3TOH-j"
      },
      "source": [
        "# **Load data and model**"
      ]
    },
    {
      "cell_type": "code",
      "metadata": {
        "colab": {
          "base_uri": "https://localhost:8080/"
        },
        "id": "eNrYBMmePLKm",
        "outputId": "b21983f8-1622-4b4b-ddd0-4297fd607fab"
      },
      "source": [
        "tr_set = prep_dataloader(tr_path, 'train', config['batch_size'], target_only=target_only)\n",
        "dv_set = prep_dataloader(tr_path, 'dev', config['batch_size'], target_only=target_only)\n",
        "tt_set = prep_dataloader(tt_path, 'test', config['batch_size'], target_only=target_only)"
      ],
      "execution_count": 19,
      "outputs": [
        {
          "output_type": "stream",
          "text": [
            "Finished reading the train set of COVID19 Dataset (2430 samples found, each dim = 54)\n",
            "Finished reading the dev set of COVID19 Dataset (270 samples found, each dim = 54)\n",
            "Finished reading the test set of COVID19 Dataset (893 samples found, each dim = 54)\n"
          ],
          "name": "stdout"
        }
      ]
    },
    {
      "cell_type": "code",
      "metadata": {
        "id": "FHylSirLP9oh"
      },
      "source": [
        "model = NeuralNet(tr_set.dataset.dim).to(device)  # Construct model and move to device"
      ],
      "execution_count": 20,
      "outputs": []
    },
    {
      "cell_type": "markdown",
      "metadata": {
        "id": "sX2B_zgSOPTJ"
      },
      "source": [
        "# **Start Training!**"
      ]
    },
    {
      "cell_type": "code",
      "metadata": {
        "colab": {
          "base_uri": "https://localhost:8080/"
        },
        "id": "GrEbUxazQAAZ",
        "outputId": "9dcffc32-e444-4519-c3c5-01e354e8fd42"
      },
      "source": [
        "model_loss, model_loss_record = train(tr_set, dv_set, model, config, device)"
      ],
      "execution_count": 21,
      "outputs": [
        {
          "output_type": "stream",
          "text": [
            "Saving model (epoch =    1, loss = 157.6244)\n",
            "Saving model (epoch =    2, loss = 93.3452)\n",
            "Saving model (epoch =    3, loss = 51.8299)\n",
            "Saving model (epoch =    4, loss = 28.0637)\n",
            "Saving model (epoch =    5, loss = 16.2680)\n",
            "Saving model (epoch =    6, loss = 11.3600)\n",
            "Saving model (epoch =    7, loss = 9.4643)\n",
            "Saving model (epoch =    8, loss = 8.5285)\n",
            "Saving model (epoch =    9, loss = 7.9134)\n",
            "Saving model (epoch =   10, loss = 7.4122)\n",
            "Saving model (epoch =   11, loss = 6.9550)\n",
            "Saving model (epoch =   12, loss = 6.5401)\n",
            "Saving model (epoch =   13, loss = 6.1298)\n",
            "Saving model (epoch =   14, loss = 5.7472)\n",
            "Saving model (epoch =   15, loss = 5.3839)\n",
            "Saving model (epoch =   16, loss = 5.0416)\n",
            "Saving model (epoch =   17, loss = 4.7144)\n",
            "Saving model (epoch =   18, loss = 4.3658)\n",
            "Saving model (epoch =   19, loss = 4.0326)\n",
            "Saving model (epoch =   20, loss = 3.7117)\n",
            "Saving model (epoch =   21, loss = 3.4251)\n",
            "Saving model (epoch =   22, loss = 3.1666)\n",
            "Saving model (epoch =   23, loss = 2.9171)\n",
            "Saving model (epoch =   24, loss = 2.7084)\n",
            "Saving model (epoch =   25, loss = 2.5020)\n",
            "Saving model (epoch =   26, loss = 2.3510)\n",
            "Saving model (epoch =   27, loss = 2.1824)\n",
            "Saving model (epoch =   28, loss = 2.0487)\n",
            "Saving model (epoch =   29, loss = 1.9361)\n",
            "Saving model (epoch =   30, loss = 1.8384)\n",
            "Saving model (epoch =   31, loss = 1.7557)\n",
            "Saving model (epoch =   32, loss = 1.6865)\n",
            "Saving model (epoch =   33, loss = 1.6308)\n",
            "Saving model (epoch =   34, loss = 1.5831)\n",
            "Saving model (epoch =   35, loss = 1.5468)\n",
            "Saving model (epoch =   36, loss = 1.5157)\n",
            "Saving model (epoch =   37, loss = 1.4901)\n",
            "Saving model (epoch =   38, loss = 1.4708)\n",
            "Saving model (epoch =   39, loss = 1.4560)\n",
            "Saving model (epoch =   40, loss = 1.4479)\n",
            "Saving model (epoch =   42, loss = 1.4280)\n",
            "Saving model (epoch =   43, loss = 1.4260)\n",
            "Saving model (epoch =   44, loss = 1.4183)\n",
            "Saving model (epoch =   45, loss = 1.4135)\n",
            "Saving model (epoch =   47, loss = 1.4081)\n",
            "Saving model (epoch =   50, loss = 1.4037)\n",
            "Saving model (epoch =   51, loss = 1.4010)\n",
            "Saving model (epoch =   53, loss = 1.3986)\n",
            "Saving model (epoch =   55, loss = 1.3940)\n",
            "Saving model (epoch =   56, loss = 1.3910)\n",
            "Saving model (epoch =   60, loss = 1.3832)\n",
            "Saving model (epoch =   61, loss = 1.3814)\n",
            "Saving model (epoch =   62, loss = 1.3795)\n",
            "Saving model (epoch =   63, loss = 1.3785)\n",
            "Saving model (epoch =   64, loss = 1.3760)\n",
            "Saving model (epoch =   65, loss = 1.3746)\n",
            "Saving model (epoch =   66, loss = 1.3739)\n",
            "Saving model (epoch =   67, loss = 1.3734)\n",
            "Saving model (epoch =   68, loss = 1.3684)\n",
            "Saving model (epoch =   70, loss = 1.3676)\n",
            "Saving model (epoch =   72, loss = 1.3624)\n",
            "Saving model (epoch =   74, loss = 1.3594)\n",
            "Saving model (epoch =   76, loss = 1.3558)\n",
            "Saving model (epoch =   79, loss = 1.3519)\n",
            "Saving model (epoch =   81, loss = 1.3470)\n",
            "Saving model (epoch =   83, loss = 1.3453)\n",
            "Saving model (epoch =   84, loss = 1.3441)\n",
            "Saving model (epoch =   85, loss = 1.3411)\n",
            "Saving model (epoch =   86, loss = 1.3396)\n",
            "Saving model (epoch =   87, loss = 1.3373)\n",
            "Saving model (epoch =   89, loss = 1.3345)\n",
            "Saving model (epoch =   91, loss = 1.3326)\n",
            "Saving model (epoch =   92, loss = 1.3297)\n",
            "Saving model (epoch =   94, loss = 1.3267)\n",
            "Saving model (epoch =   96, loss = 1.3231)\n",
            "Saving model (epoch =   97, loss = 1.3214)\n",
            "Saving model (epoch =   98, loss = 1.3188)\n",
            "Saving model (epoch =  100, loss = 1.3161)\n",
            "Saving model (epoch =  103, loss = 1.3138)\n",
            "Saving model (epoch =  104, loss = 1.3130)\n",
            "Saving model (epoch =  105, loss = 1.3068)\n",
            "Saving model (epoch =  106, loss = 1.3052)\n",
            "Saving model (epoch =  108, loss = 1.3026)\n",
            "Saving model (epoch =  113, loss = 1.2951)\n",
            "Saving model (epoch =  115, loss = 1.2938)\n",
            "Saving model (epoch =  116, loss = 1.2916)\n",
            "Saving model (epoch =  117, loss = 1.2887)\n",
            "Saving model (epoch =  120, loss = 1.2859)\n",
            "Saving model (epoch =  121, loss = 1.2823)\n",
            "Saving model (epoch =  122, loss = 1.2819)\n",
            "Saving model (epoch =  124, loss = 1.2781)\n",
            "Saving model (epoch =  126, loss = 1.2749)\n",
            "Saving model (epoch =  128, loss = 1.2725)\n",
            "Saving model (epoch =  131, loss = 1.2684)\n",
            "Saving model (epoch =  132, loss = 1.2657)\n",
            "Saving model (epoch =  135, loss = 1.2627)\n",
            "Saving model (epoch =  139, loss = 1.2569)\n",
            "Saving model (epoch =  141, loss = 1.2526)\n",
            "Saving model (epoch =  143, loss = 1.2492)\n",
            "Saving model (epoch =  145, loss = 1.2466)\n",
            "Saving model (epoch =  147, loss = 1.2439)\n",
            "Saving model (epoch =  150, loss = 1.2427)\n",
            "Saving model (epoch =  152, loss = 1.2340)\n",
            "Saving model (epoch =  153, loss = 1.2315)\n",
            "Saving model (epoch =  154, loss = 1.2312)\n",
            "Saving model (epoch =  155, loss = 1.2287)\n",
            "Saving model (epoch =  159, loss = 1.2280)\n",
            "Saving model (epoch =  160, loss = 1.2212)\n",
            "Saving model (epoch =  163, loss = 1.2168)\n",
            "Saving model (epoch =  164, loss = 1.2163)\n",
            "Saving model (epoch =  170, loss = 1.2114)\n",
            "Saving model (epoch =  171, loss = 1.2090)\n",
            "Saving model (epoch =  172, loss = 1.2089)\n",
            "Saving model (epoch =  174, loss = 1.2063)\n",
            "Saving model (epoch =  175, loss = 1.2048)\n",
            "Saving model (epoch =  176, loss = 1.2039)\n",
            "Saving model (epoch =  181, loss = 1.1996)\n",
            "Saving model (epoch =  182, loss = 1.1986)\n",
            "Saving model (epoch =  185, loss = 1.1962)\n",
            "Saving model (epoch =  191, loss = 1.1918)\n",
            "Saving model (epoch =  193, loss = 1.1906)\n",
            "Saving model (epoch =  194, loss = 1.1871)\n",
            "Saving model (epoch =  195, loss = 1.1865)\n",
            "Saving model (epoch =  198, loss = 1.1823)\n",
            "Saving model (epoch =  201, loss = 1.1796)\n",
            "Saving model (epoch =  203, loss = 1.1777)\n",
            "Saving model (epoch =  204, loss = 1.1775)\n",
            "Saving model (epoch =  205, loss = 1.1756)\n",
            "Saving model (epoch =  208, loss = 1.1741)\n",
            "Saving model (epoch =  210, loss = 1.1730)\n",
            "Saving model (epoch =  211, loss = 1.1698)\n",
            "Saving model (epoch =  213, loss = 1.1697)\n",
            "Saving model (epoch =  217, loss = 1.1662)\n",
            "Saving model (epoch =  222, loss = 1.1621)\n",
            "Saving model (epoch =  227, loss = 1.1599)\n",
            "Saving model (epoch =  229, loss = 1.1595)\n",
            "Saving model (epoch =  230, loss = 1.1576)\n",
            "Saving model (epoch =  233, loss = 1.1535)\n",
            "Saving model (epoch =  235, loss = 1.1514)\n",
            "Saving model (epoch =  240, loss = 1.1485)\n",
            "Saving model (epoch =  243, loss = 1.1461)\n",
            "Saving model (epoch =  246, loss = 1.1449)\n",
            "Saving model (epoch =  249, loss = 1.1446)\n",
            "Saving model (epoch =  251, loss = 1.1412)\n",
            "Saving model (epoch =  253, loss = 1.1408)\n",
            "Saving model (epoch =  254, loss = 1.1392)\n",
            "Saving model (epoch =  256, loss = 1.1385)\n",
            "Saving model (epoch =  261, loss = 1.1360)\n",
            "Saving model (epoch =  263, loss = 1.1341)\n",
            "Saving model (epoch =  265, loss = 1.1322)\n",
            "Saving model (epoch =  270, loss = 1.1315)\n",
            "Saving model (epoch =  271, loss = 1.1303)\n",
            "Saving model (epoch =  275, loss = 1.1279)\n",
            "Saving model (epoch =  277, loss = 1.1273)\n",
            "Saving model (epoch =  281, loss = 1.1253)\n",
            "Saving model (epoch =  286, loss = 1.1230)\n",
            "Saving model (epoch =  287, loss = 1.1218)\n",
            "Saving model (epoch =  289, loss = 1.1209)\n",
            "Saving model (epoch =  294, loss = 1.1186)\n",
            "Saving model (epoch =  298, loss = 1.1178)\n",
            "Saving model (epoch =  302, loss = 1.1165)\n",
            "Saving model (epoch =  305, loss = 1.1139)\n",
            "Saving model (epoch =  308, loss = 1.1131)\n",
            "Saving model (epoch =  309, loss = 1.1120)\n",
            "Saving model (epoch =  312, loss = 1.1112)\n",
            "Saving model (epoch =  314, loss = 1.1105)\n",
            "Saving model (epoch =  319, loss = 1.1098)\n",
            "Saving model (epoch =  320, loss = 1.1088)\n",
            "Saving model (epoch =  322, loss = 1.1075)\n",
            "Saving model (epoch =  323, loss = 1.1071)\n",
            "Saving model (epoch =  329, loss = 1.1056)\n",
            "Saving model (epoch =  334, loss = 1.1046)\n",
            "Saving model (epoch =  337, loss = 1.1035)\n",
            "Saving model (epoch =  342, loss = 1.1015)\n",
            "Saving model (epoch =  343, loss = 1.1010)\n",
            "Saving model (epoch =  345, loss = 1.1009)\n",
            "Saving model (epoch =  347, loss = 1.1003)\n",
            "Saving model (epoch =  354, loss = 1.0991)\n",
            "Saving model (epoch =  355, loss = 1.0979)\n",
            "Saving model (epoch =  365, loss = 1.0959)\n",
            "Saving model (epoch =  367, loss = 1.0955)\n",
            "Saving model (epoch =  368, loss = 1.0949)\n",
            "Saving model (epoch =  371, loss = 1.0948)\n",
            "Saving model (epoch =  373, loss = 1.0942)\n",
            "Saving model (epoch =  383, loss = 1.0916)\n",
            "Saving model (epoch =  389, loss = 1.0915)\n",
            "Saving model (epoch =  390, loss = 1.0906)\n",
            "Saving model (epoch =  396, loss = 1.0897)\n",
            "Saving model (epoch =  400, loss = 1.0895)\n",
            "Saving model (epoch =  403, loss = 1.0887)\n",
            "Saving model (epoch =  409, loss = 1.0878)\n",
            "Saving model (epoch =  419, loss = 1.0877)\n",
            "Saving model (epoch =  422, loss = 1.0871)\n",
            "Saving model (epoch =  428, loss = 1.0856)\n",
            "Saving model (epoch =  433, loss = 1.0840)\n",
            "Saving model (epoch =  444, loss = 1.0837)\n",
            "Saving model (epoch =  448, loss = 1.0830)\n",
            "Saving model (epoch =  449, loss = 1.0827)\n",
            "Saving model (epoch =  457, loss = 1.0818)\n",
            "Saving model (epoch =  463, loss = 1.0818)\n",
            "Saving model (epoch =  466, loss = 1.0814)\n",
            "Saving model (epoch =  472, loss = 1.0810)\n",
            "Saving model (epoch =  473, loss = 1.0803)\n",
            "Saving model (epoch =  483, loss = 1.0802)\n",
            "Saving model (epoch =  485, loss = 1.0798)\n",
            "Saving model (epoch =  496, loss = 1.0790)\n",
            "Saving model (epoch =  513, loss = 1.0785)\n",
            "Saving model (epoch =  521, loss = 1.0777)\n",
            "Saving model (epoch =  525, loss = 1.0776)\n",
            "Saving model (epoch =  527, loss = 1.0776)\n",
            "Saving model (epoch =  536, loss = 1.0772)\n",
            "Saving model (epoch =  538, loss = 1.0765)\n",
            "Saving model (epoch =  539, loss = 1.0765)\n",
            "Saving model (epoch =  558, loss = 1.0761)\n",
            "Saving model (epoch =  561, loss = 1.0747)\n",
            "Saving model (epoch =  583, loss = 1.0742)\n",
            "Saving model (epoch =  597, loss = 1.0738)\n",
            "Saving model (epoch =  602, loss = 1.0731)\n",
            "Saving model (epoch =  629, loss = 1.0720)\n",
            "Saving model (epoch =  675, loss = 1.0716)\n",
            "Saving model (epoch =  693, loss = 1.0712)\n",
            "Saving model (epoch =  732, loss = 1.0711)\n",
            "Saving model (epoch =  733, loss = 1.0710)\n",
            "Saving model (epoch =  734, loss = 1.0709)\n",
            "Saving model (epoch =  735, loss = 1.0706)\n",
            "Saving model (epoch =  737, loss = 1.0705)\n",
            "Saving model (epoch =  769, loss = 1.0703)\n",
            "Saving model (epoch =  782, loss = 1.0695)\n",
            "Saving model (epoch =  824, loss = 1.0694)\n",
            "Saving model (epoch =  831, loss = 1.0691)\n",
            "Saving model (epoch =  871, loss = 1.0689)\n",
            "Saving model (epoch =  902, loss = 1.0687)\n",
            "Saving model (epoch =  927, loss = 1.0683)\n",
            "Saving model (epoch =  934, loss = 1.0682)\n",
            "Saving model (epoch =  974, loss = 1.0679)\n",
            "Saving model (epoch =  989, loss = 1.0678)\n",
            "Saving model (epoch = 1010, loss = 1.0671)\n",
            "Saving model (epoch = 1038, loss = 1.0671)\n",
            "Saving model (epoch = 1050, loss = 1.0669)\n",
            "Saving model (epoch = 1074, loss = 1.0669)\n",
            "Saving model (epoch = 1081, loss = 1.0665)\n",
            "Saving model (epoch = 1088, loss = 1.0664)\n",
            "Saving model (epoch = 1137, loss = 1.0662)\n",
            "Saving model (epoch = 1156, loss = 1.0662)\n",
            "Saving model (epoch = 1190, loss = 1.0657)\n",
            "Saving model (epoch = 1243, loss = 1.0653)\n",
            "Saving model (epoch = 1299, loss = 1.0650)\n",
            "Saving model (epoch = 1306, loss = 1.0646)\n",
            "Saving model (epoch = 1365, loss = 1.0645)\n",
            "Saving model (epoch = 1389, loss = 1.0642)\n",
            "Saving model (epoch = 1396, loss = 1.0641)\n",
            "Saving model (epoch = 1415, loss = 1.0637)\n",
            "Saving model (epoch = 1438, loss = 1.0636)\n",
            "Saving model (epoch = 1455, loss = 1.0635)\n",
            "Saving model (epoch = 1456, loss = 1.0635)\n",
            "Saving model (epoch = 1499, loss = 1.0633)\n",
            "Saving model (epoch = 1554, loss = 1.0631)\n",
            "Saving model (epoch = 1570, loss = 1.0628)\n",
            "Saving model (epoch = 1598, loss = 1.0625)\n",
            "Saving model (epoch = 1615, loss = 1.0624)\n",
            "Saving model (epoch = 1616, loss = 1.0618)\n",
            "Saving model (epoch = 1749, loss = 1.0616)\n",
            "Saving model (epoch = 1753, loss = 1.0613)\n",
            "Saving model (epoch = 1769, loss = 1.0611)\n",
            "Saving model (epoch = 1794, loss = 1.0610)\n",
            "Saving model (epoch = 1831, loss = 1.0608)\n",
            "Saving model (epoch = 1869, loss = 1.0604)\n",
            "Saving model (epoch = 1892, loss = 1.0600)\n",
            "Saving model (epoch = 1938, loss = 1.0599)\n",
            "Saving model (epoch = 1949, loss = 1.0596)\n",
            "Saving model (epoch = 2021, loss = 1.0596)\n",
            "Saving model (epoch = 2049, loss = 1.0593)\n",
            "Saving model (epoch = 2054, loss = 1.0591)\n",
            "Saving model (epoch = 2093, loss = 1.0591)\n",
            "Saving model (epoch = 2112, loss = 1.0589)\n",
            "Saving model (epoch = 2194, loss = 1.0588)\n",
            "Saving model (epoch = 2201, loss = 1.0585)\n",
            "Saving model (epoch = 2212, loss = 1.0583)\n",
            "Saving model (epoch = 2218, loss = 1.0582)\n",
            "Saving model (epoch = 2262, loss = 1.0581)\n",
            "Saving model (epoch = 2269, loss = 1.0577)\n",
            "Saving model (epoch = 2304, loss = 1.0576)\n",
            "Saving model (epoch = 2306, loss = 1.0575)\n",
            "Saving model (epoch = 2332, loss = 1.0574)\n",
            "Saving model (epoch = 2413, loss = 1.0574)\n",
            "Saving model (epoch = 2431, loss = 1.0572)\n",
            "Saving model (epoch = 2436, loss = 1.0570)\n",
            "Saving model (epoch = 2461, loss = 1.0569)\n",
            "Saving model (epoch = 2470, loss = 1.0566)\n",
            "Saving model (epoch = 2546, loss = 1.0565)\n",
            "Saving model (epoch = 2579, loss = 1.0563)\n",
            "Saving model (epoch = 2580, loss = 1.0563)\n",
            "Saving model (epoch = 2618, loss = 1.0562)\n",
            "Saving model (epoch = 2620, loss = 1.0560)\n",
            "Saving model (epoch = 2642, loss = 1.0557)\n",
            "Saving model (epoch = 2755, loss = 1.0556)\n",
            "Saving model (epoch = 2757, loss = 1.0554)\n",
            "Saving model (epoch = 2856, loss = 1.0553)\n",
            "Saving model (epoch = 2863, loss = 1.0551)\n",
            "Saving model (epoch = 2980, loss = 1.0550)\n",
            "Saving model (epoch = 3017, loss = 1.0548)\n",
            "Saving model (epoch = 3042, loss = 1.0547)\n",
            "Saving model (epoch = 3192, loss = 1.0546)\n",
            "Saving model (epoch = 3201, loss = 1.0542)\n",
            "Saving model (epoch = 3202, loss = 1.0541)\n",
            "Saving model (epoch = 3209, loss = 1.0539)\n",
            "Finished training after 3410 epochs\n"
          ],
          "name": "stdout"
        }
      ]
    },
    {
      "cell_type": "code",
      "metadata": {
        "colab": {
          "base_uri": "https://localhost:8080/",
          "height": 295
        },
        "id": "hsNO9nnXQBvP",
        "outputId": "6b13f2d9-789e-4b15-98e1-e6bee5dec46d"
      },
      "source": [
        "plot_learning_curve(model_loss_record, title='deep model')"
      ],
      "execution_count": 22,
      "outputs": [
        {
          "output_type": "display_data",
          "data": {
            "image/png": "[encoded data removed]",
            "text/plain": [
              "<Figure size 432x288 with 1 Axes>"
            ]
          },
          "metadata": {
            "tags": [],
            "needs_background": "light"
          }
        }
      ]
    },
    {
      "cell_type": "code",
      "metadata": {
        "colab": {
          "base_uri": "https://localhost:8080/",
          "height": 350
        },
        "id": "3iZTVn5WQFpX",
        "outputId": "54e0bd12-0120-4557-fde6-87f92b19599d"
      },
      "source": [
        "del model\n",
        "model = NeuralNet(tr_set.dataset.dim).to(device)\n",
        "ckpt = torch.load(config['save_path'], map_location='cpu')  # Load your best model\n",
        "model.load_state_dict(ckpt)\n",
        "plot_pred(dv_set, model, device)  # Show prediction on the validation set"
      ],
      "execution_count": 23,
      "outputs": [
        {
          "output_type": "display_data",
          "data": {
            "image/png": "[encoded data removed]",
            "text/plain": [
              "<Figure size 360x360 with 1 Axes>"
            ]
          },
          "metadata": {
            "tags": [],
            "needs_background": "light"
          }
        }
      ]
    },
    {
      "cell_type": "markdown",
      "metadata": {
        "id": "aQikz3IPiyPf"
      },
      "source": [
        "# **Testing**\n",
        "The predictions of your model on testing set will be stored at `pred.csv`."
      ]
    },
    {
      "cell_type": "code",
      "metadata": {
        "colab": {
          "base_uri": "https://localhost:8080/"
        },
        "id": "O8cTuQjQQOon",
        "outputId": "314e520a-a305-4a5b-bec3-664d6f5b7012"
      },
      "source": [
        "def save_pred(preds, file):\n",
        "    ''' Save predictions to specified file '''\n",
        "    print('Saving results to {}'.format(file))\n",
        "    with open(file, 'w') as fp:\n",
        "        writer = csv.writer(fp)\n",
        "        writer.writerow(['id', 'tested_positive'])\n",
        "        for i, p in enumerate(preds):\n",
        "            writer.writerow([i, p])\n",
        "\n",
        "preds = test(tt_set, model, device)  # predict COVID-19 cases with your model\n",
        "save_pred(preds, 'pred.csv')         # save prediction file to pred.csv"
      ],
      "execution_count": 24,
      "outputs": [
        {
          "output_type": "stream",
          "text": [
            "Saving results to pred.csv\n"
          ],
          "name": "stdout"
        }
      ]
    },
    {
      "cell_type": "markdown",
      "metadata": {
        "id": "nfrVxqJanGpE"
      },
      "source": [
        "# **Hints**\n",
        "\n",
        "## **Simple Baseline**\n",
        "* Run sample code\n",
        "\n",
        "## **Medium Baseline**\n",
        "* Feature selection: 40 states + 2 `tested_positive` (`TODO` in dataset)\n",
        "\n",
        "## **Strong Baseline**\n",
        "* Feature selection (what other features are useful?)\n",
        "* DNN architecture (layers? dimension? activation function?)\n",
        "* Training (mini-batch? optimizer? learning rate?)\n",
        "* L2 regularization\n",
        "* There are some mistakes in the sample code, can you find them?"
      ]
    },
    {
      "cell_type": "markdown",
      "metadata": {
        "id": "9tmCwXgpot3t"
      },
      "source": [
        "# **Reference**\n",
        "This code is completely written by Heng-Jui Chang @ NTUEE.  \n",
        "Copying or reusing this code is required to specify the original author. \n",
        "\n",
        "E.g.  \n",
        "Source: Heng-Jui Chang @ NTUEE (https://github.com/ga642381/ML2021-Spring/blob/main/HW01/HW01.ipynb)\n"
      ]
    }
  ]
}